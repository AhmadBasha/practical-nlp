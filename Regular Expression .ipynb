{
 "cells": [
  {
   "cell_type": "markdown",
   "metadata": {},
   "source": [
    "<b>Identifiers</b> \n",
    "<br>\n",
    "<br>\n",
    "0   &nbsp;&nbsp;&nbsp;&nbsp;&nbsp;&nbsp;&nbsp;  \\d = any number\n",
    "<br>\n",
    "1   &nbsp;&nbsp;&nbsp;&nbsp;&nbsp;&nbsp;&nbsp;  \\D = anything but a number\n",
    "<br>\n",
    "2   &nbsp;&nbsp;&nbsp;&nbsp;&nbsp;&nbsp;&nbsp;  \\s = space\n",
    "<br>\n",
    "3   &nbsp;&nbsp;&nbsp;&nbsp;&nbsp;&nbsp;&nbsp;  \\S = anything but a space\n",
    "<br>\n",
    "4   &nbsp;&nbsp;&nbsp;&nbsp;&nbsp;&nbsp;&nbsp;  \\w = any letter\n",
    "<br>\n",
    "5   &nbsp;&nbsp;&nbsp;&nbsp;&nbsp;&nbsp;&nbsp;  \\W = anything but a letter\n",
    "<br>\n",
    "6   &nbsp;&nbsp;&nbsp;&nbsp;&nbsp;&nbsp;&nbsp;  . = any character, except for a new line\n",
    "<br>\n",
    "7   &nbsp;&nbsp;&nbsp;&nbsp;&nbsp;&nbsp;&nbsp;  \\b = space around whole words\n",
    "<br>\n",
    "8   &nbsp;&nbsp;&nbsp;&nbsp;&nbsp;&nbsp;&nbsp;  \\. = period. must use backslash, because . normally means any character.\n",
    "\n",
    "\n",
    "<b>Modifiers</b> \n",
    "<br>\n",
    "<br>\n",
    "1   &nbsp;&nbsp;&nbsp;&nbsp;&nbsp;&nbsp;&nbsp;  {1,3} = for digits, u expect 1-3 counts of digits, or \"places\"\n",
    "<br>\n",
    "2   &nbsp;&nbsp;&nbsp;&nbsp;&nbsp;&nbsp;&nbsp;  + = match 1 or more\n",
    "<br>\n",
    "3   &nbsp;&nbsp;&nbsp;&nbsp;&nbsp;&nbsp;&nbsp;  ? = match 0 or 1 repetitions.\n",
    "<br>\n",
    "4   &nbsp;&nbsp;&nbsp;&nbsp;&nbsp;&nbsp;&nbsp;  * = match 0 or MORE repetitions\n",
    "<br>\n",
    "5   &nbsp;&nbsp;&nbsp;&nbsp;&nbsp;&nbsp;&nbsp;  $ = matches at the end of string\n",
    "<br>\n",
    "6   &nbsp;&nbsp;&nbsp;&nbsp;&nbsp;&nbsp;&nbsp;  ^ = matches start of a string\n",
    "<br>\n",
    "7   &nbsp;&nbsp;&nbsp;&nbsp;&nbsp;&nbsp;&nbsp;  | = matches either/or. Example x|y = will match either x or y\n",
    "<br>\n",
    "8   &nbsp;&nbsp;&nbsp;&nbsp;&nbsp;&nbsp;&nbsp;  [] = range, or \"variance\"\n",
    "<br>\n",
    "9   &nbsp;&nbsp;&nbsp;&nbsp;&nbsp;&nbsp;&nbsp;  {x} = expect to see this amount of the preceding code.\n",
    "<br>\n",
    "10   &nbsp;&nbsp;&nbsp;&nbsp;&nbsp;&nbsp;&nbsp;  {x,y} = expect to see this x-y amounts of the precedng code\n",
    "\n",
    "\n",
    "<b>WhiteSpace</b> \n",
    "<br>\n",
    "<br>\n",
    "1   &nbsp;&nbsp;&nbsp;&nbsp;&nbsp;&nbsp;&nbsp;  \\n = new line\n",
    "<br>\n",
    "2   &nbsp;&nbsp;&nbsp;&nbsp;&nbsp;&nbsp;&nbsp;  \\s = space\n",
    "<br>\n",
    "3   &nbsp;&nbsp;&nbsp;&nbsp;&nbsp;&nbsp;&nbsp;  \\t = tab\n",
    "<br>\n",
    "4   &nbsp;&nbsp;&nbsp;&nbsp;&nbsp;&nbsp;&nbsp;  \\e = escape\n",
    "<br>\n",
    "5   &nbsp;&nbsp;&nbsp;&nbsp;&nbsp;&nbsp;&nbsp;  \\f = form feed\n",
    "<br>\n",
    "6   &nbsp;&nbsp;&nbsp;&nbsp;&nbsp;&nbsp;&nbsp;  \\r = carriage return\n",
    "\n",
    "\n",
    "<b>Brackets</b> \n",
    "<br>\n",
    "<br>\n",
    "1   &nbsp;&nbsp;&nbsp;&nbsp;&nbsp;&nbsp;&nbsp;  [] = quant[ia]tative = will find either quantitative, or quantatative.\n",
    "<br>\n",
    "2   &nbsp;&nbsp;&nbsp;&nbsp;&nbsp;&nbsp;&nbsp;  [a-z] = return any lowercase letter a-z\n",
    "<br>\n",
    "3   &nbsp;&nbsp;&nbsp;&nbsp;&nbsp;&nbsp;&nbsp;  [1-5a-qA-Z] = return all numbers 1-5, lowercase letters a-q and uppercase A-Z\n",
    "\n"
   ]
  },
  {
   "cell_type": "code",
   "execution_count": 1,
   "metadata": {},
   "outputs": [],
   "source": [
    "# Step 1: Import Regular Expression Package\n",
    "import re"
   ]
  },
  {
   "cell_type": "code",
   "execution_count": 2,
   "metadata": {},
   "outputs": [],
   "source": [
    "text = 'Welcome to Simplilearn. Hope you are having a great experience'"
   ]
  },
  {
   "cell_type": "code",
   "execution_count": 6,
   "metadata": {},
   "outputs": [
    {
     "data": {
      "text/plain": [
       "<re.Match object; span=(46, 51), match='great'>"
      ]
     },
     "execution_count": 6,
     "metadata": {},
     "output_type": "execute_result"
    }
   ],
   "source": [
    "# Step2: Create a Custom Rule to check if the word NLP exists or not\n",
    "rule = 'great'\n",
    "\n",
    "# Step3: Use search() in re with Rule and String\n",
    "re.search(rule,   text.lower())"
   ]
  },
  {
   "cell_type": "code",
   "execution_count": 7,
   "metadata": {},
   "outputs": [
    {
     "data": {
      "text/plain": [
       "'great'"
      ]
     },
     "execution_count": 7,
     "metadata": {},
     "output_type": "execute_result"
    }
   ],
   "source": [
    "text[46:51]"
   ]
  },
  {
   "cell_type": "code",
   "execution_count": 8,
   "metadata": {},
   "outputs": [
    {
     "data": {
      "text/plain": [
       "<re.Match object; span=(38, 42), match='data'>"
      ]
     },
     "execution_count": 8,
     "metadata": {},
     "output_type": "execute_result"
    }
   ],
   "source": [
    "#Example2: \n",
    "\n",
    "text = \"Import Regular Expression Package for data data data  data Data Filtering\"\n",
    "\n",
    "rule = \"data\"\n",
    "\n",
    "normalizedText = text.lower()\n",
    "\n",
    "re.search(rule, normalizedText)"
   ]
  },
  {
   "cell_type": "code",
   "execution_count": 9,
   "metadata": {},
   "outputs": [
    {
     "data": {
      "text/plain": [
       "'data'"
      ]
     },
     "execution_count": 9,
     "metadata": {},
     "output_type": "execute_result"
    }
   ],
   "source": [
    "text[38:42]"
   ]
  },
  {
   "cell_type": "code",
   "execution_count": 10,
   "metadata": {},
   "outputs": [
    {
     "data": {
      "text/plain": [
       "['data', 'data', 'data', 'data', 'data']"
      ]
     },
     "execution_count": 10,
     "metadata": {},
     "output_type": "execute_result"
    }
   ],
   "source": [
    "#To extract everything\n",
    "matchesFound = re.findall(rule,normalizedText)\n",
    "\n",
    "matchesFound"
   ]
  },
  {
   "cell_type": "code",
   "execution_count": 11,
   "metadata": {},
   "outputs": [
    {
     "data": {
      "text/plain": [
       "5"
      ]
     },
     "execution_count": 11,
     "metadata": {},
     "output_type": "execute_result"
    }
   ],
   "source": [
    "len(matchesFound)"
   ]
  },
  {
   "cell_type": "code",
   "execution_count": 12,
   "metadata": {},
   "outputs": [
    {
     "name": "stdout",
     "output_type": "stream",
     "text": [
      "(38, 42)\n",
      "(43, 47)\n",
      "(48, 52)\n",
      "(54, 58)\n",
      "(59, 63)\n"
     ]
    }
   ],
   "source": [
    "#if you want the positions of each word\n",
    "\n",
    "#Solution: Use finditer\n",
    "\n",
    "for word in re.finditer(rule,normalizedText):\n",
    "    print(word.span())"
   ]
  },
  {
   "cell_type": "code",
   "execution_count": 13,
   "metadata": {},
   "outputs": [
    {
     "data": {
      "text/plain": [
       "' Ram has 10 catz,Shyam has 20 DOGS'"
      ]
     },
     "execution_count": 13,
     "metadata": {},
     "output_type": "execute_result"
    }
   ],
   "source": [
    "sentence = ' Ram has 10 catz,Shyam has 20 DOGS'\n",
    "sentence"
   ]
  },
  {
   "cell_type": "code",
   "execution_count": 14,
   "metadata": {},
   "outputs": [
    {
     "name": "stdout",
     "output_type": "stream",
     "text": [
      "\n",
      "\n",
      " <re.Match object; span=(2, 3), match='a'> \n",
      "\n",
      "\n",
      "['a', 'm', 'h', 'a', 's', 'c', 'a', 't', 'z', 'h', 'y', 'a', 'm', 'h', 'a', 's']\n"
     ]
    }
   ],
   "source": [
    "pat1 =  r\"[a-z]\"\n",
    "print('\\n\\n',re.search(pat1,sentence),'\\n\\n')\n",
    "print(re.findall(pat1,sentence))"
   ]
  },
  {
   "cell_type": "code",
   "execution_count": 15,
   "metadata": {},
   "outputs": [
    {
     "name": "stdout",
     "output_type": "stream",
     "text": [
      "['R', 'S', 'D', 'O', 'G', 'S']\n"
     ]
    }
   ],
   "source": [
    "pat2 = r'[A-Z]'\n",
    "print(re.findall(pat2,sentence))"
   ]
  },
  {
   "cell_type": "code",
   "execution_count": 16,
   "metadata": {},
   "outputs": [
    {
     "name": "stdout",
     "output_type": "stream",
     "text": [
      "['1', '0', '2', '0']\n"
     ]
    }
   ],
   "source": [
    "pat3 = r\"[0-9]\"\n",
    "print(re.findall(pat3,sentence))"
   ]
  },
  {
   "cell_type": "code",
   "execution_count": 17,
   "metadata": {},
   "outputs": [
    {
     "name": "stdout",
     "output_type": "stream",
     "text": [
      "['1', '0', '2', '0']\n"
     ]
    }
   ],
   "source": [
    "pat4 = r'[\\d]'\n",
    "print(re.findall(pat4,sentence))"
   ]
  },
  {
   "cell_type": "markdown",
   "metadata": {},
   "source": [
    "## Creating Custom Rules"
   ]
  },
  {
   "cell_type": "code",
   "execution_count": 18,
   "metadata": {},
   "outputs": [],
   "source": [
    "#Rule: 10 digit Mobile No \n",
    "# Assuming First Digit is (0)\n",
    "# Remaining 10 Digits can be any number between 0 to 9"
   ]
  },
  {
   "cell_type": "code",
   "execution_count": 31,
   "metadata": {},
   "outputs": [],
   "source": [
    "ruleMobileNo1 = r'\\+966\\d{9}'"
   ]
  },
  {
   "cell_type": "code",
   "execution_count": 32,
   "metadata": {},
   "outputs": [
    {
     "data": {
      "text/plain": [
       "'+966234567891'"
      ]
     },
     "execution_count": 32,
     "metadata": {},
     "output_type": "execute_result"
    }
   ],
   "source": [
    "phone = re.search(ruleMobileNo1,\"My Mobile No is +9662345678918888888888888\")\n",
    "phone.group()"
   ]
  },
  {
   "cell_type": "code",
   "execution_count": 33,
   "metadata": {},
   "outputs": [],
   "source": [
    "ruleMobileNo2 = r'\\+966\\d*'"
   ]
  },
  {
   "cell_type": "code",
   "execution_count": 34,
   "metadata": {},
   "outputs": [
    {
     "data": {
      "text/plain": [
       "'+966234567891'"
      ]
     },
     "execution_count": 34,
     "metadata": {},
     "output_type": "execute_result"
    }
   ],
   "source": [
    "phone = re.search(ruleMobileNo1,\"My Mobile No is +9662345678918888888888888\")\n",
    "phone.group()"
   ]
  },
  {
   "cell_type": "code",
   "execution_count": 35,
   "metadata": {},
   "outputs": [
    {
     "data": {
      "text/plain": [
       "'212-345-6789'"
      ]
     },
     "execution_count": 35,
     "metadata": {},
     "output_type": "execute_result"
    }
   ],
   "source": [
    "text = \"My Phone Number is 212-345-67891\"\n",
    "ruleUsPhone = r'\\d\\d\\d-\\d\\d\\d-\\d\\d\\d\\d'\n",
    "\n",
    "usPhone = re.search(ruleUsPhone, text)\n",
    "usPhone.group()"
   ]
  },
  {
   "cell_type": "code",
   "execution_count": 36,
   "metadata": {},
   "outputs": [
    {
     "data": {
      "text/plain": [
       "'012-345-6789'"
      ]
     },
     "execution_count": 36,
     "metadata": {},
     "output_type": "execute_result"
    }
   ],
   "source": [
    "#Quantifiers\n",
    "text = \"My Phone Number is 012-345-67891\"\n",
    "ruleUsPhone = r'\\d{3}-\\d{3}-\\d{4}'\n",
    "usPhone = re.search(ruleUsPhone, text)\n",
    "usPhone.group()"
   ]
  },
  {
   "cell_type": "code",
   "execution_count": 37,
   "metadata": {},
   "outputs": [
    {
     "data": {
      "text/plain": [
       "'abc_abc@abc.com'"
      ]
     },
     "execution_count": 37,
     "metadata": {},
     "output_type": "execute_result"
    }
   ],
   "source": [
    "text = 'hello my mail id is abc_abc@abc.com'\n",
    "\n",
    "ruleemail = r'[a-zA-Z0-9._-]+@[a-zA-Z.]+[a-zA-Z]'\n",
    "\n",
    "usPhone = re.search(ruleemail, text)\n",
    "usPhone.group()"
   ]
  },
  {
   "cell_type": "code",
   "execution_count": null,
   "metadata": {},
   "outputs": [],
   "source": []
  }
 ],
 "metadata": {
  "kernelspec": {
   "display_name": "Python 3",
   "language": "python",
   "name": "python3"
  },
  "language_info": {
   "codemirror_mode": {
    "name": "ipython",
    "version": 3
   },
   "file_extension": ".py",
   "mimetype": "text/x-python",
   "name": "python",
   "nbconvert_exporter": "python",
   "pygments_lexer": "ipython3",
   "version": "3.8.5"
  }
 },
 "nbformat": 4,
 "nbformat_minor": 4
}
