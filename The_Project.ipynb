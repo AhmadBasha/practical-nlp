{
 "cells": [
  {
   "cell_type": "code",
   "execution_count": 1,
   "metadata": {},
   "outputs": [],
   "source": [
    "import pandas as pd\n",
    "import numpy as np\n",
    "\n",
    "\n",
    "import nltk\n",
    "from nltk.tokenize import word_tokenize, sent_tokenize\n",
    "from nltk.corpus import stopwords\n",
    "from nltk.stem import WordNetLemmatizer\n",
    "from nltk.tag import pos_tag\n",
    "\n",
    "\n",
    "import string\n",
    "\n",
    "\n",
    "# Gensim\n",
    "import gensim\n",
    "import gensim.corpora as corpora\n",
    "from gensim.utils import simple_preprocess\n",
    "from gensim.models import CoherenceModel\n",
    "\n",
    "\n",
    "from pprint import pprint\n"
   ]
  },
  {
   "cell_type": "markdown",
   "metadata": {},
   "source": [
    "### Read the .csv file using Pandas. Take a look at the top few records."
   ]
  },
  {
   "cell_type": "code",
   "execution_count": 2,
   "metadata": {},
   "outputs": [
    {
     "data": {
      "text/html": [
       "<div>\n",
       "<style scoped>\n",
       "    .dataframe tbody tr th:only-of-type {\n",
       "        vertical-align: middle;\n",
       "    }\n",
       "\n",
       "    .dataframe tbody tr th {\n",
       "        vertical-align: top;\n",
       "    }\n",
       "\n",
       "    .dataframe thead th {\n",
       "        text-align: right;\n",
       "    }\n",
       "</style>\n",
       "<table border=\"1\" class=\"dataframe\">\n",
       "  <thead>\n",
       "    <tr style=\"text-align: right;\">\n",
       "      <th></th>\n",
       "      <th>sentiment</th>\n",
       "      <th>review</th>\n",
       "    </tr>\n",
       "  </thead>\n",
       "  <tbody>\n",
       "    <tr>\n",
       "      <th>0</th>\n",
       "      <td>1</td>\n",
       "      <td>Good but need updates and improvements</td>\n",
       "    </tr>\n",
       "    <tr>\n",
       "      <th>1</th>\n",
       "      <td>0</td>\n",
       "      <td>Worst mobile i have bought ever, Battery is dr...</td>\n",
       "    </tr>\n",
       "    <tr>\n",
       "      <th>2</th>\n",
       "      <td>1</td>\n",
       "      <td>when I will get my 10% cash back.... its alrea...</td>\n",
       "    </tr>\n",
       "    <tr>\n",
       "      <th>3</th>\n",
       "      <td>1</td>\n",
       "      <td>Good</td>\n",
       "    </tr>\n",
       "    <tr>\n",
       "      <th>4</th>\n",
       "      <td>0</td>\n",
       "      <td>The worst phone everThey have changed the last...</td>\n",
       "    </tr>\n",
       "  </tbody>\n",
       "</table>\n",
       "</div>"
      ],
      "text/plain": [
       "   sentiment                                             review\n",
       "0          1             Good but need updates and improvements\n",
       "1          0  Worst mobile i have bought ever, Battery is dr...\n",
       "2          1  when I will get my 10% cash back.... its alrea...\n",
       "3          1                                               Good\n",
       "4          0  The worst phone everThey have changed the last..."
      ]
     },
     "execution_count": 2,
     "metadata": {},
     "output_type": "execute_result"
    }
   ],
   "source": [
    "df = pd.read_csv('K8 Reviews v0.2.csv')\n",
    "df.head()"
   ]
  },
  {
   "cell_type": "code",
   "execution_count": 3,
   "metadata": {},
   "outputs": [
    {
     "data": {
      "text/plain": [
       "(14675, 2)"
      ]
     },
     "execution_count": 3,
     "metadata": {},
     "output_type": "execute_result"
    }
   ],
   "source": [
    "df.shape"
   ]
  },
  {
   "cell_type": "markdown",
   "metadata": {},
   "source": [
    "### Normalize casings for the review text and extract the text into a list for easier manipulation."
   ]
  },
  {
   "cell_type": "code",
   "execution_count": 4,
   "metadata": {},
   "outputs": [
    {
     "data": {
      "text/plain": [
       "14675"
      ]
     },
     "execution_count": 4,
     "metadata": {},
     "output_type": "execute_result"
    }
   ],
   "source": [
    "reviews_values = list(df['review'].values)\n",
    "# to change it to lower case\n",
    "reviews_list = [review.lower() for review in reviews_values]\n",
    "len(reviews_list)"
   ]
  },
  {
   "cell_type": "code",
   "execution_count": 5,
   "metadata": {},
   "outputs": [
    {
     "data": {
      "text/plain": [
       "'good but need updates and improvements'"
      ]
     },
     "execution_count": 5,
     "metadata": {},
     "output_type": "execute_result"
    }
   ],
   "source": [
    "reviews_list[0]"
   ]
  },
  {
   "cell_type": "markdown",
   "metadata": {},
   "source": [
    "### Tokenize the reviews using NLTKs word_tokenize function"
   ]
  },
  {
   "cell_type": "code",
   "execution_count": 6,
   "metadata": {},
   "outputs": [
    {
     "data": {
      "text/plain": [
       "['good', 'but', 'need', 'updates', 'and', 'improvements']"
      ]
     },
     "execution_count": 6,
     "metadata": {},
     "output_type": "execute_result"
    }
   ],
   "source": [
    "reviews_tokens = [word_tokenize(review) for review in reviews_list]\n",
    "reviews_tokens[0]"
   ]
  },
  {
   "cell_type": "markdown",
   "metadata": {},
   "source": [
    "### Perform parts-of-speech tagging on each sentence using the NLTK POS tagger."
   ]
  },
  {
   "cell_type": "code",
   "execution_count": 7,
   "metadata": {},
   "outputs": [
    {
     "data": {
      "text/plain": [
       "[('good', 'JJ'),\n",
       " ('but', 'CC'),\n",
       " ('need', 'VBP'),\n",
       " ('updates', 'NNS'),\n",
       " ('and', 'CC'),\n",
       " ('improvements', 'NNS')]"
      ]
     },
     "execution_count": 7,
     "metadata": {},
     "output_type": "execute_result"
    }
   ],
   "source": [
    "reviews_pos_tags = [pos_tag(review) for review in reviews_tokens]\n",
    "reviews_pos_tags[0]"
   ]
  },
  {
   "cell_type": "markdown",
   "metadata": {},
   "source": [
    "### For the topic model, we should  want to include only nouns.\n",
    "\n",
    "1- Find out all the POS tags that correspond to nouns.\n",
    "\n",
    "2- Limit the data to only terms with these tags."
   ]
  },
  {
   "cell_type": "code",
   "execution_count": 8,
   "metadata": {},
   "outputs": [
    {
     "name": "stdout",
     "output_type": "stream",
     "text": [
      "$: dollar\n",
      "    $ -$ --$ A$ C$ HK$ M$ NZ$ S$ U.S.$ US$\n",
      "'': closing quotation mark\n",
      "    ' ''\n",
      "(: opening parenthesis\n",
      "    ( [ {\n",
      "): closing parenthesis\n",
      "    ) ] }\n",
      ",: comma\n",
      "    ,\n",
      "--: dash\n",
      "    --\n",
      ".: sentence terminator\n",
      "    . ! ?\n",
      ":: colon or ellipsis\n",
      "    : ; ...\n",
      "CC: conjunction, coordinating\n",
      "    & 'n and both but either et for less minus neither nor or plus so\n",
      "    therefore times v. versus vs. whether yet\n",
      "CD: numeral, cardinal\n",
      "    mid-1890 nine-thirty forty-two one-tenth ten million 0.5 one forty-\n",
      "    seven 1987 twenty '79 zero two 78-degrees eighty-four IX '60s .025\n",
      "    fifteen 271,124 dozen quintillion DM2,000 ...\n",
      "DT: determiner\n",
      "    all an another any both del each either every half la many much nary\n",
      "    neither no some such that the them these this those\n",
      "EX: existential there\n",
      "    there\n",
      "FW: foreign word\n",
      "    gemeinschaft hund ich jeux habeas Haementeria Herr K'ang-si vous\n",
      "    lutihaw alai je jour objets salutaris fille quibusdam pas trop Monte\n",
      "    terram fiche oui corporis ...\n",
      "IN: preposition or conjunction, subordinating\n",
      "    astride among uppon whether out inside pro despite on by throughout\n",
      "    below within for towards near behind atop around if like until below\n",
      "    next into if beside ...\n",
      "JJ: adjective or numeral, ordinal\n",
      "    third ill-mannered pre-war regrettable oiled calamitous first separable\n",
      "    ectoplasmic battery-powered participatory fourth still-to-be-named\n",
      "    multilingual multi-disciplinary ...\n",
      "JJR: adjective, comparative\n",
      "    bleaker braver breezier briefer brighter brisker broader bumper busier\n",
      "    calmer cheaper choosier cleaner clearer closer colder commoner costlier\n",
      "    cozier creamier crunchier cuter ...\n",
      "JJS: adjective, superlative\n",
      "    calmest cheapest choicest classiest cleanest clearest closest commonest\n",
      "    corniest costliest crassest creepiest crudest cutest darkest deadliest\n",
      "    dearest deepest densest dinkiest ...\n",
      "LS: list item marker\n",
      "    A A. B B. C C. D E F First G H I J K One SP-44001 SP-44002 SP-44005\n",
      "    SP-44007 Second Third Three Two * a b c d first five four one six three\n",
      "    two\n",
      "MD: modal auxiliary\n",
      "    can cannot could couldn't dare may might must need ought shall should\n",
      "    shouldn't will would\n",
      "NN: noun, common, singular or mass\n",
      "    common-carrier cabbage knuckle-duster Casino afghan shed thermostat\n",
      "    investment slide humour falloff slick wind hyena override subhumanity\n",
      "    machinist ...\n",
      "NNP: noun, proper, singular\n",
      "    Motown Venneboerger Czestochwa Ranzer Conchita Trumplane Christos\n",
      "    Oceanside Escobar Kreisler Sawyer Cougar Yvette Ervin ODI Darryl CTCA\n",
      "    Shannon A.K.C. Meltex Liverpool ...\n",
      "NNPS: noun, proper, plural\n",
      "    Americans Americas Amharas Amityvilles Amusements Anarcho-Syndicalists\n",
      "    Andalusians Andes Andruses Angels Animals Anthony Antilles Antiques\n",
      "    Apache Apaches Apocrypha ...\n",
      "NNS: noun, common, plural\n",
      "    undergraduates scotches bric-a-brac products bodyguards facets coasts\n",
      "    divestitures storehouses designs clubs fragrances averages\n",
      "    subjectivists apprehensions muses factory-jobs ...\n",
      "PDT: pre-determiner\n",
      "    all both half many quite such sure this\n",
      "POS: genitive marker\n",
      "    ' 's\n",
      "PRP: pronoun, personal\n",
      "    hers herself him himself hisself it itself me myself one oneself ours\n",
      "    ourselves ownself self she thee theirs them themselves they thou thy us\n",
      "PRP$: pronoun, possessive\n",
      "    her his mine my our ours their thy your\n",
      "RB: adverb\n",
      "    occasionally unabatingly maddeningly adventurously professedly\n",
      "    stirringly prominently technologically magisterially predominately\n",
      "    swiftly fiscally pitilessly ...\n",
      "RBR: adverb, comparative\n",
      "    further gloomier grander graver greater grimmer harder harsher\n",
      "    healthier heavier higher however larger later leaner lengthier less-\n",
      "    perfectly lesser lonelier longer louder lower more ...\n",
      "RBS: adverb, superlative\n",
      "    best biggest bluntest earliest farthest first furthest hardest\n",
      "    heartiest highest largest least less most nearest second tightest worst\n",
      "RP: particle\n",
      "    aboard about across along apart around aside at away back before behind\n",
      "    by crop down ever fast for forth from go high i.e. in into just later\n",
      "    low more off on open out over per pie raising start teeth that through\n",
      "    under unto up up-pp upon whole with you\n",
      "SYM: symbol\n",
      "    % & ' '' ''. ) ). * + ,. < = > @ A[fj] U.S U.S.S.R * ** ***\n",
      "TO: \"to\" as preposition or infinitive marker\n",
      "    to\n",
      "UH: interjection\n",
      "    Goodbye Goody Gosh Wow Jeepers Jee-sus Hubba Hey Kee-reist Oops amen\n",
      "    huh howdy uh dammit whammo shucks heck anyways whodunnit honey golly\n",
      "    man baby diddle hush sonuvabitch ...\n",
      "VB: verb, base form\n",
      "    ask assemble assess assign assume atone attention avoid bake balkanize\n",
      "    bank begin behold believe bend benefit bevel beware bless boil bomb\n",
      "    boost brace break bring broil brush build ...\n",
      "VBD: verb, past tense\n",
      "    dipped pleaded swiped regummed soaked tidied convened halted registered\n",
      "    cushioned exacted snubbed strode aimed adopted belied figgered\n",
      "    speculated wore appreciated contemplated ...\n",
      "VBG: verb, present participle or gerund\n",
      "    telegraphing stirring focusing angering judging stalling lactating\n",
      "    hankerin' alleging veering capping approaching traveling besieging\n",
      "    encrypting interrupting erasing wincing ...\n",
      "VBN: verb, past participle\n",
      "    multihulled dilapidated aerosolized chaired languished panelized used\n",
      "    experimented flourished imitated reunifed factored condensed sheared\n",
      "    unsettled primed dubbed desired ...\n",
      "VBP: verb, present tense, not 3rd person singular\n",
      "    predominate wrap resort sue twist spill cure lengthen brush terminate\n",
      "    appear tend stray glisten obtain comprise detest tease attract\n",
      "    emphasize mold postpone sever return wag ...\n",
      "VBZ: verb, present tense, 3rd person singular\n",
      "    bases reconstructs marks mixes displeases seals carps weaves snatches\n",
      "    slumps stretches authorizes smolders pictures emerges stockpiles\n",
      "    seduces fizzes uses bolsters slaps speaks pleads ...\n",
      "WDT: WH-determiner\n",
      "    that what whatever which whichever\n",
      "WP: WH-pronoun\n",
      "    that what whatever whatsoever which who whom whosoever\n",
      "WP$: WH-pronoun, possessive\n",
      "    whose\n",
      "WRB: Wh-adverb\n",
      "    how however whence whenever where whereby whereever wherein whereof why\n",
      "``: opening quotation mark\n",
      "    ` ``\n"
     ]
    },
    {
     "name": "stderr",
     "output_type": "stream",
     "text": [
      "[nltk_data] Downloading package tagsets to\n",
      "[nltk_data]     /Users/ahmadbasha/nltk_data...\n",
      "[nltk_data]   Package tagsets is already up-to-date!\n"
     ]
    }
   ],
   "source": [
    "# 1- Find out all the POS tags that correspond to nouns.\n",
    "nltk.download('tagsets')\n",
    "nltk.help.upenn_tagset()"
   ]
  },
  {
   "cell_type": "code",
   "execution_count": 9,
   "metadata": {},
   "outputs": [
    {
     "data": {
      "text/plain": [
       "[('updates', 'NNS'), ('improvements', 'NNS')]"
      ]
     },
     "execution_count": 9,
     "metadata": {},
     "output_type": "execute_result"
    }
   ],
   "source": [
    "# 2- Limit the data to only terms with these tags.\n",
    "nouns = []\n",
    "for single_review in reviews_pos_tags:\n",
    "    nouns.append([(word, tag) for word, tag in single_review if tag.startswith('NN')])\n",
    "\n",
    "nouns[0]"
   ]
  },
  {
   "cell_type": "markdown",
   "metadata": {},
   "source": [
    "### Lemmatize. \n",
    "\n",
    "1-Different forms of the terms need to be treated as one.\n",
    "\n",
    "2-No need to provide POS tag to lemmatizer for now."
   ]
  },
  {
   "cell_type": "code",
   "execution_count": 10,
   "metadata": {},
   "outputs": [
    {
     "data": {
      "text/plain": [
       "['update', 'improvement']"
      ]
     },
     "execution_count": 10,
     "metadata": {},
     "output_type": "execute_result"
    }
   ],
   "source": [
    "## Lemmatization\n",
    "wnl = WordNetLemmatizer()\n",
    "wnl_reviews =[]\n",
    "\n",
    "for review in nouns:\n",
    "    wnl_reviews.append([wnl.lemmatize(word) for word, tag in review])\n",
    "    \n",
    "wnl_reviews[0]"
   ]
  },
  {
   "cell_type": "markdown",
   "metadata": {},
   "source": [
    "### Remove stopwords and punctuation (if there are any). "
   ]
  },
  {
   "cell_type": "code",
   "execution_count": 11,
   "metadata": {},
   "outputs": [
    {
     "data": {
      "text/plain": [
       "['mobile',\n",
       " 'battery',\n",
       " 'hell',\n",
       " 'backup',\n",
       " 'hour',\n",
       " 'us',\n",
       " 'idle',\n",
       " 'discharged.this',\n",
       " 'lie',\n",
       " 'amazon',\n",
       " 'lenove',\n",
       " 'battery',\n",
       " 'charger',\n",
       " 'hour']"
      ]
     },
     "execution_count": 11,
     "metadata": {},
     "output_type": "execute_result"
    }
   ],
   "source": [
    "words = []\n",
    "for word in wnl_reviews:\n",
    "    words.append([single_word for single_word in word if single_word not in (stopwords.words('English') + list(string.punctuation))])\n",
    "\n",
    "words[1]"
   ]
  },
  {
   "cell_type": "markdown",
   "metadata": {},
   "source": [
    "### Create a topic model using LDA on the cleaned-up data with 12 topics.\n",
    "\n",
    "1-Print out the top terms for each topic.\n",
    "\n",
    "2-What is the coherence of the model with the c_v metric?"
   ]
  },
  {
   "cell_type": "code",
   "execution_count": 12,
   "metadata": {},
   "outputs": [
    {
     "name": "stdout",
     "output_type": "stream",
     "text": [
      "Dictionary(9263 unique tokens: ['improvement', 'update', 'amazon', 'backup', 'battery']...)\n"
     ]
    }
   ],
   "source": [
    "word_cor = corpora.Dictionary(words)\n",
    "print(word_cor)"
   ]
  },
  {
   "cell_type": "code",
   "execution_count": 13,
   "metadata": {},
   "outputs": [
    {
     "name": "stdout",
     "output_type": "stream",
     "text": [
      "[(0, 1), (1, 1)]\n"
     ]
    }
   ],
   "source": [
    "# The term frequency of the document\n",
    "corpus = [word_cor.doc2bow(word) for word in words]\n",
    "print(corpus[0])"
   ]
  },
  {
   "cell_type": "code",
   "execution_count": 14,
   "metadata": {},
   "outputs": [],
   "source": [
    "# Bbuilding LDA model with 12 topics\n",
    "\n",
    "lda_model = gensim.models.ldamodel.LdaModel(corpus=corpus,\n",
    "                                       id2word=word_cor,\n",
    "                                       num_topics=12, \n",
    "                                       random_state=0,\n",
    "                                       per_word_topics=True)"
   ]
  },
  {
   "cell_type": "code",
   "execution_count": 15,
   "metadata": {},
   "outputs": [],
   "source": [
    "coherence_model_lda = CoherenceModel(model=lda_model, \n",
    "                                     texts=words, \n",
    "                                     dictionary=word_cor, \n",
    "                                     coherence='c_v')"
   ]
  },
  {
   "cell_type": "code",
   "execution_count": 16,
   "metadata": {},
   "outputs": [
    {
     "data": {
      "text/plain": [
       "0.5376462357958322"
      ]
     },
     "execution_count": 16,
     "metadata": {},
     "output_type": "execute_result"
    }
   ],
   "source": [
    "# Coherence Score\n",
    "coherence_lda = coherence_model_lda.get_coherence()\n",
    "coherence_lda"
   ]
  },
  {
   "cell_type": "markdown",
   "metadata": {},
   "source": [
    "# Analyze the topics through the business lens.\n",
    "\n",
    "Determine which of the topics can be combined."
   ]
  },
  {
   "cell_type": "code",
   "execution_count": 17,
   "metadata": {},
   "outputs": [
    {
     "name": "stdout",
     "output_type": "stream",
     "text": [
      "[(0,\n",
      "  '0.284*\"phone\" + 0.084*\"..\" + 0.042*\"issue\" + 0.022*\"price\" + '\n",
      "  '0.019*\"network\" + 0.018*\"amazon\" + 0.017*\"time\" + 0.017*\"day\" + '\n",
      "  '0.015*\"month\" + 0.010*\"lenovo\"'),\n",
      " (1,\n",
      "  '0.223*\"battery\" + 0.054*\"backup\" + 0.053*\"camera\" + 0.042*\"charger\" + '\n",
      "  '0.033*\"life\" + 0.031*\"issue\" + 0.030*\"phone\" + 0.025*\"h\" + 0.024*\"hour\" + '\n",
      "  '0.022*\"charge\"'),\n",
      " (2,\n",
      "  '0.099*\"camera\" + 0.096*\"performance\" + 0.059*\"phone\" + 0.044*\"price\" + '\n",
      "  '0.033*\"quality\" + 0.033*\"processor\" + 0.028*\"ram\" + 0.021*\"range\" + '\n",
      "  '0.017*\"photo\" + 0.016*\"usage\"'),\n",
      " (3,\n",
      "  '0.095*\"camera\" + 0.074*\"feature\" + 0.070*\"phone\" + 0.041*\"device\" + '\n",
      "  '0.025*\"update\" + 0.021*\"heat\" + 0.016*\"android\" + 0.015*\"music\" + '\n",
      "  '0.014*\"stock\" + 0.013*\"battery\"'),\n",
      " (4,\n",
      "  '0.186*\"problem\" + 0.057*\"heating\" + 0.035*\"handset\" + 0.035*\"speaker\" + '\n",
      "  '0.022*\"battery\" + 0.021*\"call\" + 0.019*\"piece\" + 0.017*\"waste\" + '\n",
      "  '0.015*\"replacement\" + 0.015*\"set\"'),\n",
      " (5,\n",
      "  '0.060*\"camera\" + 0.048*\"mode\" + 0.041*\"sim\" + 0.030*\"phone\" + '\n",
      "  '0.030*\"battery\" + 0.025*\"network\" + 0.024*\"issue\" + 0.023*\"depth\" + '\n",
      "  '0.021*\"box\" + 0.020*\"video\"'),\n",
      " (6,\n",
      "  '0.083*\"phone\" + 0.062*\"note\" + 0.030*\"k8\" + 0.024*\"battery\" + '\n",
      "  '0.024*\"screen\" + 0.018*\"lenovo\" + 0.018*\"camera\" + 0.016*\"call\" + '\n",
      "  '0.016*\"feature\" + 0.014*\"issue\"'),\n",
      " (7,\n",
      "  '0.259*\"mobile\" + 0.035*\"problem\" + 0.029*\"time\" + 0.026*\"camera\" + '\n",
      "  '0.026*\"battery\" + 0.024*\"phone\" + 0.020*\"charging\" + 0.016*\"touch\" + '\n",
      "  '0.012*\"day\" + 0.012*\"cell\"'),\n",
      " (8,\n",
      "  '0.112*\"....\" + 0.100*\"quality\" + 0.084*\"camera\" + 0.040*\"display\" + '\n",
      "  '0.034*\"phone\" + 0.023*\"smartphone\" + 0.022*\".....\" + 0.020*\"thanks\" + '\n",
      "  '0.018*\"headphone\" + 0.018*\"note\"'),\n",
      " (9,\n",
      "  '0.049*\"cast\" + 0.038*\"super\" + 0.035*\"please\" + 0.032*\"screen\" + '\n",
      "  '0.031*\"earphone\" + 0.031*\"ok\" + 0.028*\"model\" + 0.028*\".....\" + '\n",
      "  '0.024*\"option\" + 0.022*\"facility\"'),\n",
      " (10,\n",
      "  '0.282*\"product\" + 0.049*\"service\" + 0.027*\"amazon\" + 0.025*\"lenovo\" + '\n",
      "  '0.018*\"day\" + 0.015*\"customer\" + 0.013*\"camera\" + 0.013*\"issue\" + '\n",
      "  '0.012*\"price\" + 0.012*\"note\"'),\n",
      " (11,\n",
      "  '0.104*\"money\" + 0.057*\"hai\" + 0.051*\"value\" + 0.050*\"delivery\" + '\n",
      "  '0.045*\"superb\" + 0.024*\"product\" + 0.024*\"......\" + 0.023*\"ho\" + '\n",
      "  '0.018*\"waste\" + 0.014*\"star\"')]\n"
     ]
    }
   ],
   "source": [
    "# In 12 topics showing the keywords \n",
    "pprint(lda_model.print_topics())"
   ]
  },
  {
   "cell_type": "markdown",
   "metadata": {},
   "source": [
    "### The Possible Topics \n",
    "(1,3)The phone price\n",
    "(2,4-7)Device feature\n",
    "(8-10)Pros and Cons \n",
    "(11-12)product delivery & service\n",
    "\n"
   ]
  },
  {
   "cell_type": "markdown",
   "metadata": {},
   "source": [
    "# Create topic model using LDA with what you think is the optimal number of topics\n",
    "\n",
    "What is the coherence of the model?"
   ]
  },
  {
   "cell_type": "code",
   "execution_count": 18,
   "metadata": {},
   "outputs": [],
   "source": [
    "# Build LDA model\n",
    "current = 0\n",
    "number_of_topics = 0\n",
    "for n_topic in range(1,20):\n",
    "    lda_model = gensim.models.ldamodel.LdaModel(corpus=corpus,\n",
    "                                                id2word=word_cor,\n",
    "                                                num_topics=n_topic, \n",
    "                                                random_state=0,\n",
    "                                                per_word_topics=True)\n",
    "    coherence_model_lda = CoherenceModel(model=lda_model, \n",
    "                                                texts=words, \n",
    "                                                dictionary=word_cor, \n",
    "                                                coherence='c_v')\n",
    "    coherence_lda = coherence_model_lda.get_coherence()\n",
    "    if coherence_lda>current :\n",
    "        current = coherence_lda\n",
    "        number_of_topics = n_topic\n",
    "    \n",
    "    "
   ]
  },
  {
   "cell_type": "code",
   "execution_count": 19,
   "metadata": {},
   "outputs": [
    {
     "data": {
      "text/plain": [
       "0.5735257813727284"
      ]
     },
     "execution_count": 19,
     "metadata": {},
     "output_type": "execute_result"
    }
   ],
   "source": [
    "current"
   ]
  },
  {
   "cell_type": "code",
   "execution_count": 20,
   "metadata": {},
   "outputs": [
    {
     "data": {
      "text/plain": [
       "9"
      ]
     },
     "execution_count": 20,
     "metadata": {},
     "output_type": "execute_result"
    }
   ],
   "source": [
    "number_of_topics"
   ]
  },
  {
   "cell_type": "code",
   "execution_count": 21,
   "metadata": {},
   "outputs": [
    {
     "data": {
      "text/plain": [
       "0.5735257813727284"
      ]
     },
     "execution_count": 21,
     "metadata": {},
     "output_type": "execute_result"
    }
   ],
   "source": [
    "# Bbuilding LDA model with 12 topics\n",
    "\n",
    "lda_model = gensim.models.ldamodel.LdaModel(corpus=corpus,\n",
    "                                       id2word=word_cor,\n",
    "                                       num_topics=9, \n",
    "                                       random_state=0,\n",
    "                                       per_word_topics=True)\n",
    "\n",
    "coherence_model_lda = CoherenceModel(model=lda_model, \n",
    "                                     texts=words, \n",
    "                                     dictionary=word_cor, \n",
    "                                     coherence='c_v')\n",
    "\n",
    "coherence_lda = coherence_model_lda.get_coherence()\n",
    "coherence_lda"
   ]
  },
  {
   "cell_type": "code",
   "execution_count": 22,
   "metadata": {},
   "outputs": [
    {
     "name": "stdout",
     "output_type": "stream",
     "text": [
      "[(0,\n",
      "  '0.194*\"phone\" + 0.073*\"..\" + 0.037*\"product\" + 0.030*\"money\" + '\n",
      "  '0.027*\"amazon\" + 0.026*\"service\" + 0.024*\"issue\" + 0.018*\"day\" + '\n",
      "  '0.015*\"time\" + 0.014*\"waste\"'),\n",
      " (1,\n",
      "  '0.193*\"battery\" + 0.074*\"camera\" + 0.060*\"quality\" + 0.052*\"backup\" + '\n",
      "  '0.036*\"phone\" + 0.027*\"life\" + 0.024*\"issue\" + 0.023*\"h\" + '\n",
      "  '0.016*\"everything\" + 0.016*\"drain\"'),\n",
      " (2,\n",
      "  '0.119*\"camera\" + 0.088*\"phone\" + 0.058*\"price\" + 0.057*\"performance\" + '\n",
      "  '0.028*\"quality\" + 0.019*\"charger\" + 0.018*\"mode\" + 0.018*\"battery\" + '\n",
      "  '0.017*\"processor\" + 0.017*\"ram\"'),\n",
      " (3,\n",
      "  '0.148*\"product\" + 0.054*\"camera\" + 0.053*\"feature\" + 0.039*\"phone\" + '\n",
      "  '0.026*\"device\" + 0.022*\"superb\" + 0.020*\"heat\" + 0.017*\"battery\" + '\n",
      "  '0.014*\"android\" + 0.012*\"clarity\"'),\n",
      " (4,\n",
      "  '0.096*\"problem\" + 0.045*\"heating\" + 0.032*\"handset\" + 0.029*\"hai\" + '\n",
      "  '0.020*\"glass\" + 0.019*\"piece\" + 0.016*\"screen\" + 0.015*\"super\" + 0.014*\"ho\" '\n",
      "  '+ 0.013*\"experience\"'),\n",
      " (5,\n",
      "  '0.066*\"network\" + 0.064*\"issue\" + 0.040*\"sim\" + 0.025*\"phone\" + '\n",
      "  '0.025*\"update\" + 0.024*\"jio\" + 0.022*\"volta\" + 0.020*\"mobile\" + '\n",
      "  '0.019*\"call\" + 0.015*\"message\"'),\n",
      " (6,\n",
      "  '0.089*\"phone\" + 0.036*\"note\" + 0.023*\"camera\" + 0.021*\"battery\" + '\n",
      "  '0.020*\"feature\" + 0.019*\"screen\" + 0.017*\"lenovo\" + 0.015*\"call\" + '\n",
      "  '0.014*\"k8\" + 0.012*\"issue\"'),\n",
      " (7,\n",
      "  '0.140*\"mobile\" + 0.073*\"problem\" + 0.039*\"phone\" + 0.035*\"battery\" + '\n",
      "  '0.028*\"time\" + 0.021*\"day\" + 0.017*\"hr\" + 0.014*\"charging\" + 0.013*\"camera\" '\n",
      "  '+ 0.012*\"heat\"'),\n",
      " (8,\n",
      "  '0.090*\"....\" + 0.058*\"note\" + 0.040*\"k8\" + 0.036*\"phone\" + 0.029*\"camera\" + '\n",
      "  '0.020*\"smartphone\" + 0.017*\"option\" + 0.017*\"quality\" + 0.017*\"return\" + '\n",
      "  '0.015*\"display\"')]\n"
     ]
    }
   ],
   "source": [
    "pprint(lda_model.print_topics())"
   ]
  },
  {
   "cell_type": "markdown",
   "metadata": {},
   "source": [
    "# The business should  be able to interpret the topics.\n",
    "\n",
    "1-Name each of the identified topics.\n",
    "\n",
    "2-Create a table with the topic name and the top 10 terms in each to present to the  business."
   ]
  },
  {
   "cell_type": "code",
   "execution_count": 23,
   "metadata": {},
   "outputs": [],
   "source": [
    "names = ['Phone issues', \n",
    "         'Battery Quality', \n",
    "         'Camera Performance', \n",
    "         'Phone Features' ,\n",
    "         'Phone Cons' ,\n",
    "         'network issues' , \n",
    "         'Phone Performance', \n",
    "         'Phone Review',\n",
    "         'phone option'\n",
    "        ]\n",
    "topic_id = [1,2,3,4,5,6,7,8,9]"
   ]
  },
  {
   "cell_type": "code",
   "execution_count": 24,
   "metadata": {},
   "outputs": [],
   "source": [
    "topics = lda_model.show_topics(formatted=False)\n",
    "top = []\n",
    "for topic in topics:\n",
    "    top.append([term[0] for term in topic[1]])\n",
    "\n",
    "topics = pd.DataFrame({'ID': topic_id, 'Top Terms':top})"
   ]
  },
  {
   "cell_type": "code",
   "execution_count": 25,
   "metadata": {},
   "outputs": [
    {
     "data": {
      "text/html": [
       "<style type=\"text/css\">\n",
       "</style>\n",
       "<table id=\"T_09e90_\">\n",
       "  <thead>\n",
       "    <tr>\n",
       "      <th class=\"col_heading level0 col0\" >ID</th>\n",
       "      <th class=\"col_heading level0 col1\" >Top Terms</th>\n",
       "    </tr>\n",
       "  </thead>\n",
       "  <tbody>\n",
       "    <tr>\n",
       "      <td id=\"T_09e90_row0_col0\" class=\"data row0 col0\" >1</td>\n",
       "      <td id=\"T_09e90_row0_col1\" class=\"data row0 col1\" >['phone', '..', 'product', 'money', 'amazon', 'service', 'issue', 'day', 'time', 'waste']</td>\n",
       "    </tr>\n",
       "    <tr>\n",
       "      <td id=\"T_09e90_row1_col0\" class=\"data row1 col0\" >2</td>\n",
       "      <td id=\"T_09e90_row1_col1\" class=\"data row1 col1\" >['battery', 'camera', 'quality', 'backup', 'phone', 'life', 'issue', 'h', 'everything', 'drain']</td>\n",
       "    </tr>\n",
       "    <tr>\n",
       "      <td id=\"T_09e90_row2_col0\" class=\"data row2 col0\" >3</td>\n",
       "      <td id=\"T_09e90_row2_col1\" class=\"data row2 col1\" >['camera', 'phone', 'price', 'performance', 'quality', 'charger', 'mode', 'battery', 'processor', 'ram']</td>\n",
       "    </tr>\n",
       "    <tr>\n",
       "      <td id=\"T_09e90_row3_col0\" class=\"data row3 col0\" >4</td>\n",
       "      <td id=\"T_09e90_row3_col1\" class=\"data row3 col1\" >['product', 'camera', 'feature', 'phone', 'device', 'superb', 'heat', 'battery', 'android', 'clarity']</td>\n",
       "    </tr>\n",
       "    <tr>\n",
       "      <td id=\"T_09e90_row4_col0\" class=\"data row4 col0\" >5</td>\n",
       "      <td id=\"T_09e90_row4_col1\" class=\"data row4 col1\" >['problem', 'heating', 'handset', 'hai', 'glass', 'piece', 'screen', 'super', 'ho', 'experience']</td>\n",
       "    </tr>\n",
       "    <tr>\n",
       "      <td id=\"T_09e90_row5_col0\" class=\"data row5 col0\" >6</td>\n",
       "      <td id=\"T_09e90_row5_col1\" class=\"data row5 col1\" >['network', 'issue', 'sim', 'phone', 'update', 'jio', 'volta', 'mobile', 'call', 'message']</td>\n",
       "    </tr>\n",
       "    <tr>\n",
       "      <td id=\"T_09e90_row6_col0\" class=\"data row6 col0\" >7</td>\n",
       "      <td id=\"T_09e90_row6_col1\" class=\"data row6 col1\" >['phone', 'note', 'camera', 'battery', 'feature', 'screen', 'lenovo', 'call', 'k8', 'issue']</td>\n",
       "    </tr>\n",
       "    <tr>\n",
       "      <td id=\"T_09e90_row7_col0\" class=\"data row7 col0\" >8</td>\n",
       "      <td id=\"T_09e90_row7_col1\" class=\"data row7 col1\" >['mobile', 'problem', 'phone', 'battery', 'time', 'day', 'hr', 'charging', 'camera', 'heat']</td>\n",
       "    </tr>\n",
       "    <tr>\n",
       "      <td id=\"T_09e90_row8_col0\" class=\"data row8 col0\" >9</td>\n",
       "      <td id=\"T_09e90_row8_col1\" class=\"data row8 col1\" >['....', 'note', 'k8', 'phone', 'camera', 'smartphone', 'option', 'quality', 'return', 'display']</td>\n",
       "    </tr>\n",
       "  </tbody>\n",
       "</table>\n"
      ],
      "text/plain": [
       "<pandas.io.formats.style.Styler at 0x7ff8efdf66a0>"
      ]
     },
     "execution_count": 25,
     "metadata": {},
     "output_type": "execute_result"
    }
   ],
   "source": [
    "topics.style.hide_index()"
   ]
  }
 ],
 "metadata": {
  "kernelspec": {
   "display_name": "Python 3",
   "language": "python",
   "name": "python3"
  },
  "language_info": {
   "codemirror_mode": {
    "name": "ipython",
    "version": 3
   },
   "file_extension": ".py",
   "mimetype": "text/x-python",
   "name": "python",
   "nbconvert_exporter": "python",
   "pygments_lexer": "ipython3",
   "version": "3.8.5"
  }
 },
 "nbformat": 4,
 "nbformat_minor": 4
}
