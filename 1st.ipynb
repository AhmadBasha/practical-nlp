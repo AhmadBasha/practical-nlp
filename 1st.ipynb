{
 "cells": [
  {
   "cell_type": "code",
   "execution_count": 8,
   "metadata": {},
   "outputs": [],
   "source": [
    "# !pip install nltk\n",
    "import nltk"
   ]
  },
  {
   "cell_type": "code",
   "execution_count": 9,
   "metadata": {},
   "outputs": [
    {
     "name": "stderr",
     "output_type": "stream",
     "text": [
      "[nltk_data] Downloading package punkt to\n",
      "[nltk_data]     /Users/ahmadbasha/nltk_data...\n",
      "[nltk_data]   Unzipping tokenizers/punkt.zip.\n"
     ]
    },
    {
     "data": {
      "text/plain": [
       "True"
      ]
     },
     "execution_count": 9,
     "metadata": {},
     "output_type": "execute_result"
    }
   ],
   "source": [
    "nltk.download()\n",
    "#nltk.download('punkt')"
   ]
  },
  {
   "cell_type": "code",
   "execution_count": 10,
   "metadata": {},
   "outputs": [],
   "source": [
    "from nltk import word_tokenize\n",
    "from nltk import sent_tokenize"
   ]
  },
  {
   "cell_type": "code",
   "execution_count": 11,
   "metadata": {},
   "outputs": [
    {
     "data": {
      "text/plain": [
       "['My',\n",
       " 'favorite',\n",
       " 'colors',\n",
       " 'are',\n",
       " 'blue',\n",
       " ',',\n",
       " 'red',\n",
       " ',',\n",
       " 'and',\n",
       " 'green',\n",
       " '.']"
      ]
     },
     "execution_count": 11,
     "metadata": {},
     "output_type": "execute_result"
    }
   ],
   "source": [
    "# for words \n",
    "mystring = \"My favorite colors are blue, red, and green.\"\n",
    "word_tokenize(mystring)"
   ]
  },
  {
   "cell_type": "code",
   "execution_count": 12,
   "metadata": {},
   "outputs": [
    {
     "data": {
      "text/plain": [
       "\"US unveils world's most powerful supercomputer, beats China. The US has unveiled the world's most powerful supercomputer called 'Summit', beating the previous record-holder China's Sunway TaihuLight. With a peak performance of 200,000 trillion calculations per second, it is over twice as fast as Sunway TaihuLight, which is capable of 93,000 trillion calculations per second. Summit has 4,608 servers, which reportedly take up the size of two tennis courts.\""
      ]
     },
     "execution_count": 12,
     "metadata": {},
     "output_type": "execute_result"
    }
   ],
   "source": [
    "# for sentence \n",
    "sample_text = (\"US unveils world's most powerful supercomputer, beats China. \" \n",
    "               \"The US has unveiled the world's most powerful supercomputer called 'Summit', \" \n",
    "               \"beating the previous record-holder China's Sunway TaihuLight. With a peak performance \"\n",
    "               \"of 200,000 trillion calculations per second, it is over twice as fast as Sunway TaihuLight, \"\n",
    "               \"which is capable of 93,000 trillion calculations per second. Summit has 4,608 servers, \"\n",
    "               \"which reportedly take up the size of two tennis courts.\")\n",
    "sample_text"
   ]
  },
  {
   "cell_type": "code",
   "execution_count": 13,
   "metadata": {},
   "outputs": [
    {
     "data": {
      "text/plain": [
       "[\"US unveils world's most powerful supercomputer, beats China.\",\n",
       " \"The US has unveiled the world's most powerful supercomputer called 'Summit', beating the previous record-holder China's Sunway TaihuLight.\",\n",
       " 'With a peak performance of 200,000 trillion calculations per second, it is over twice as fast as Sunway TaihuLight, which is capable of 93,000 trillion calculations per second.',\n",
       " 'Summit has 4,608 servers, which reportedly take up the size of two tennis courts.']"
      ]
     },
     "execution_count": 13,
     "metadata": {},
     "output_type": "execute_result"
    }
   ],
   "source": [
    "# for sentence \n",
    "sent_tokenize(sample_text)"
   ]
  },
  {
   "cell_type": "code",
   "execution_count": 15,
   "metadata": {},
   "outputs": [
    {
     "data": {
      "text/plain": [
       "\"US unveils world's most powerful supercomputer, beats China.\""
      ]
     },
     "execution_count": 15,
     "metadata": {},
     "output_type": "execute_result"
    }
   ],
   "source": [
    "# for first sentence \n",
    "sent_tokenize(sample_text)[0]"
   ]
  },
  {
   "cell_type": "code",
   "execution_count": 16,
   "metadata": {},
   "outputs": [],
   "source": [
    "# open and read the file \n",
    "filename ='FP.txt'\n",
    "file = open(filename, 'r')\n",
    "text = file.read()\n",
    "file.close()"
   ]
  },
  {
   "cell_type": "code",
   "execution_count": 17,
   "metadata": {},
   "outputs": [
    {
     "data": {
      "text/plain": [
       "'\\ufeffThis is financial Report of 2019-2020\\n\\n\\n\\nThe share of large borrowers in Indian banks’ total loan portfolios stood at 53% as on March 2019\\n\\nThe gross non-performing assets (NPAs) as a percentage of total loans stood at 9.3% as on March 2019\\n\\nMumbai: Indian banks continue to see an improvement in asset quality with bad loans as a percentage of total loans expected to fall to 9% by March 2020, according to the Financial Stability Report released by the Reserve Bank of India (RBI) on Thursday.\\n\\nThe gross non-performing assets (NPAs) as a percentage of total loans stood at 9.3% as on March 2019.\\n\\nAccording to the bi-annual report, stress tests done on public sector banks (PSBs) revealed that gross non-performing ratio may decline to 12% by March 2020 from 12.6% in March 2019. Private sector banks too could see a fall in gross NPAs to 3.2% from 3.7% during the same period.\\n\\nThese stress tests for credit risk were done to test the resilience of Indian banks against macroeconomic shocks. It encompassed a baseline and two (medium and severe) adverse macroeconomic risk scenarios.\\n\\nUnder the baseline scenario, the capital adequacy for banks is expected to come down to 12.9% in March 2020 from 14% in March 2019.\\n\\n\\n\\n“As many as five SCBs may have CRAR below the minimum regulatory level of 9% by March 2020 without taking into account any further planned recapitalisation by the government. If macroeconomic conditions deteriorate, nine SCBs may record CRAR below 9% under a severe macro-stress scenario,\" said the report.\\n\\nThe stress test on banks’ credit concentration showed that eight banks, accounting for 14.6% of the total assets, could be affected if top three individual borrowers failed to repay under an extreme scenario. The share of large borrowers in banks’ total loan portfolios and their share in gross NPAs stood at 53% and 82.2%, respectively as on March 2019.\\n\\n“Efforts to improve the balance sheets of banks should therefor continue. Among others, there should be special focus on governance reforms in banks. As far as PSBs are concerned, the proof of the pudding lies in the PSBs’ ability to attract private capital through market discipline rather than being overly dependent on the government for capital,\" said Shaktikanta Das in a foreword to the report.\\n\\n\\nA recent Crisil report also showed a significant reduction in system-wide NPAs to 8% by March 2020, driven by resolution of large-ticket stressed assets and slowing pace of fresh accretion to NPAs. Public sector banks, which account for over 80% of the NPAs in the system, should see their gross NPAs climb down to 10.6% by March 2020 from a peak of 14.6% in March 2018, the report said.\\n\\n\\nFPI surcharge removal, stimulus measures likely to boost markets: Experts\\n2 min read . Updated: 25 Aug 2019, 05:41 PM IST\\nPTI\\nFinance Minister Nirmala Sitharaman on Friday announced rollback of enhanced surcharge on foreign portfolio investors levied in the Budget\\nThe Centre also announced a raft of measures to revive growth momentum, including exempting startups from \\'angel tax\\'\\n\\n\\nNew Delhi: The stock markets may see a relief rally this week after the government removed enhanced surcharge on FPIs and also unveiled various measures to jumpstart growth, analysts said.\\n\\nGiving in to the demands of overseas investors, Finance Minister Nirmala Sitharaman on Friday announced rollback of enhanced surcharge on foreign portfolio investors levied in the Budget.\\n\\nThe Budget proposal to hike surcharge on FPIs had spooked foreign investors, who withdrew more than $3.4 billion ( ₹24,500 crore) from domestic equities in July and August. The massive capital outflows also put pressure on the rupee, which slumped to 72-level against the US dollar last week.\\n\\n\"Withdrawal of enhanced surcharge on FPI is a big positive for Indian markets as it could reverse the outflows seen since post Budget. It should also help INR appreciation. Overall, a good sentiment booster for the Indian economy,\" said Rusmik Oza, Head of Fundamental Research, Kotak Securities.\\n\\nThe Centre also announced a raft of measures to revive growth momentum, including exempting startups from \\'angel tax\\', a package to address distress in the auto sector and upfront infusion of ₹70,000 crore into public sector banks.\\n\\n\"Withdrawal of the surcharge on FPIs is a shot in the arm for the sagging market. One can now expect reversal of the FPI selling. The market is likely to look up from now on,\" VK Vijayakumar, Chief Investment Strategist, Geojit Financial Services said.\\n\\n\"However, sustained rally in the market will happen only when we have visibility on good earnings growth and reversal of the slowdown underway in the economy. This requires more reforms,\" Vijayakumar added.\\n\\nIn a bid to address slowdown in the auto sector, the government lifted ban on purchase of vehicles by government departments, and allowed additional 15 per cent depreciation on vehicles acquired from now till March 2020.\\n\\nThe revision of one-time registration fees has also been deferred till June 2020.\\n\\nThese steps are likely to prop up the automobile sector and revive demand, said Ashwin Patil, Senior Research Analyst (Auto Sector) at LKP Securities.\\n\\n\"These are just the kind of measures which were required to boost the economy. In the immediate term, we can expect the markets to bounce back on Monday with a gap up opening, and continue the rally for a few sessions to come,\" said Amit Gupta, Co-Founder and CEO of TradingBells.\\n\\nOver the last week, the BSE Sensex lost 649.17 points, or 1.74 per cent. On Friday, the benchmark rebounded 228 points ahead of the finance minister\\'s address.'"
      ]
     },
     "execution_count": 17,
     "metadata": {},
     "output_type": "execute_result"
    }
   ],
   "source": [
    "text"
   ]
  },
  {
   "cell_type": "code",
   "execution_count": 21,
   "metadata": {},
   "outputs": [
    {
     "name": "stdout",
     "output_type": "stream",
     "text": [
      "Total sentences:  37 last sentence :  On Friday, the benchmark rebounded 228 points ahead of the finance minister's address.\n"
     ]
    }
   ],
   "source": [
    "sentences = sent_tokenize(text)\n",
    "print('Total sentences: ',len(sentences), 'last sentence : ' ,sentences[-1])"
   ]
  },
  {
   "cell_type": "code",
   "execution_count": 22,
   "metadata": {},
   "outputs": [
    {
     "data": {
      "text/plain": [
       "['On',\n",
       " 'Friday',\n",
       " ',',\n",
       " 'the',\n",
       " 'benchmark',\n",
       " 'rebounded',\n",
       " '228',\n",
       " 'points',\n",
       " 'ahead',\n",
       " 'of',\n",
       " 'the',\n",
       " 'finance',\n",
       " 'minister',\n",
       " \"'s\",\n",
       " 'address',\n",
       " '.']"
      ]
     },
     "execution_count": 22,
     "metadata": {},
     "output_type": "execute_result"
    }
   ],
   "source": [
    "word_tokenize(sentences[-1])"
   ]
  },
  {
   "cell_type": "code",
   "execution_count": 24,
   "metadata": {},
   "outputs": [
    {
     "name": "stdout",
     "output_type": "stream",
     "text": [
      "1059 ['\\ufeffThis', 'is', 'financial', 'Report', 'of']\n"
     ]
    }
   ],
   "source": [
    "tokens = word_tokenize(text)\n",
    "print(len(tokens), tokens[:5])"
   ]
  },
  {
   "cell_type": "code",
   "execution_count": 26,
   "metadata": {},
   "outputs": [
    {
     "data": {
      "text/plain": [
       "'\\ufeffThis'"
      ]
     },
     "execution_count": 26,
     "metadata": {},
     "output_type": "execute_result"
    }
   ],
   "source": [
    "tokens[0]"
   ]
  },
  {
   "cell_type": "code",
   "execution_count": 27,
   "metadata": {},
   "outputs": [
    {
     "name": "stdout",
     "output_type": "stream",
     "text": [
      "['is', 'financial', 'Report', 'of', 'The', 'share', 'of', 'large', 'borrowers', 'in', 'Indian', 'banks', 'total', 'loan', 'portfolios', 'stood', 'at', 'as', 'on', 'March', 'The', 'gross', 'assets', 'NPAs', 'as', 'a', 'percentage', 'of', 'total', 'loans', 'stood', 'at', 'as', 'on', 'March', 'Mumbai', 'Indian', 'banks', 'continue', 'to', 'see', 'an', 'improvement', 'in', 'asset', 'quality', 'with', 'bad', 'loans', 'as', 'a', 'percentage', 'of', 'total', 'loans', 'expected', 'to', 'fall', 'to', 'by', 'March', 'according', 'to', 'the', 'Financial', 'Stability', 'Report', 'released', 'by', 'the', 'Reserve', 'Bank', 'of', 'India', 'RBI', 'on', 'Thursday', 'The', 'gross', 'assets', 'NPAs', 'as', 'a', 'percentage', 'of', 'total', 'loans', 'stood', 'at', 'as', 'on', 'March', 'According', 'to', 'the', 'report', 'stress', 'tests', 'done', 'on', 'public', 'sector', 'banks', 'PSBs', 'revealed', 'that', 'gross', 'ratio', 'may', 'decline', 'to', 'by', 'March', 'from', 'in', 'March', 'Private', 'sector', 'banks', 'too', 'could', 'see', 'a', 'fall', 'in', 'gross', 'NPAs', 'to', 'from', 'during', 'the', 'same', 'period', 'These', 'stress', 'tests', 'for', 'credit', 'risk', 'were', 'done', 'to', 'test', 'the', 'resilience', 'of', 'Indian', 'banks', 'against', 'macroeconomic', 'shocks', 'It', 'encompassed', 'a', 'baseline', 'and', 'two', 'medium', 'and', 'severe', 'adverse', 'macroeconomic', 'risk', 'scenarios', 'Under', 'the', 'baseline', 'scenario', 'the', 'capital', 'adequacy', 'for', 'banks', 'is', 'expected', 'to', 'come', 'down', 'to', 'in', 'March', 'from', 'in', 'March', 'As', 'many', 'as', 'five', 'SCBs', 'may', 'have', 'CRAR', 'below', 'the', 'minimum', 'regulatory', 'level', 'of', 'by', 'March', 'without', 'taking', 'into', 'account', 'any', 'further', 'planned', 'recapitalisation', 'by', 'the', 'government', 'If', 'macroeconomic', 'conditions', 'deteriorate', 'nine', 'SCBs', 'may', 'record', 'CRAR', 'below', 'under', 'a', 'severe', 'scenario', 'said', 'the', 'report', 'The', 'stress', 'test', 'on', 'banks', 'credit', 'concentration', 'showed', 'that', 'eight', 'banks', 'accounting', 'for', 'of', 'the', 'total', 'assets', 'could', 'be', 'affected', 'if', 'top', 'three', 'individual', 'borrowers', 'failed', 'to', 'repay', 'under', 'an', 'extreme', 'scenario', 'The', 'share', 'of', 'large', 'borrowers', 'in', 'banks', 'total', 'loan', 'portfolios', 'and', 'their', 'share', 'in', 'gross', 'NPAs', 'stood', 'at', 'and', 'respectively', 'as', 'on', 'March', 'Efforts', 'to', 'improve', 'the', 'balance', 'sheets', 'of', 'banks', 'should', 'therefor', 'continue', 'Among', 'others', 'there', 'should', 'be', 'special', 'focus', 'on', 'governance', 'reforms', 'in', 'banks', 'As', 'far', 'as', 'PSBs', 'are', 'concerned', 'the', 'proof', 'of', 'the', 'pudding', 'lies', 'in', 'the', 'PSBs', 'ability', 'to', 'attract', 'private', 'capital', 'through', 'market', 'discipline', 'rather', 'than', 'being', 'overly', 'dependent', 'on', 'the', 'government', 'for', 'capital', 'said', 'Shaktikanta', 'Das', 'in', 'a', 'foreword', 'to', 'the', 'report', 'A', 'recent', 'Crisil', 'report', 'also', 'showed', 'a', 'significant', 'reduction', 'in', 'NPAs', 'to', 'by', 'March', 'driven', 'by', 'resolution', 'of', 'stressed', 'assets', 'and', 'slowing', 'pace', 'of', 'fresh', 'accretion', 'to', 'NPAs', 'Public', 'sector', 'banks', 'which', 'account', 'for', 'over', 'of', 'the', 'NPAs', 'in', 'the', 'system', 'should', 'see', 'their', 'gross', 'NPAs', 'climb', 'down', 'to', 'by', 'March', 'from', 'a', 'peak', 'of', 'in', 'March', 'the', 'report', 'said', 'FPI', 'surcharge', 'removal', 'stimulus', 'measures', 'likely', 'to', 'boost', 'markets', 'Experts', 'min', 'read', 'Updated', 'Aug', 'PM', 'IST', 'PTI', 'Finance', 'Minister', 'Nirmala', 'Sitharaman', 'on', 'Friday', 'announced', 'rollback', 'of', 'enhanced', 'surcharge', 'on', 'foreign', 'portfolio', 'investors', 'levied', 'in', 'the', 'Budget', 'The', 'Centre', 'also', 'announced', 'a', 'raft', 'of', 'measures', 'to', 'revive', 'growth', 'momentum', 'including', 'exempting', 'startups', 'from', 'New', 'Delhi', 'The', 'stock', 'markets', 'may', 'see', 'a', 'relief', 'rally', 'this', 'week', 'after', 'the', 'government', 'removed', 'enhanced', 'surcharge', 'on', 'FPIs', 'and', 'also', 'unveiled', 'various', 'measures', 'to', 'jumpstart', 'growth', 'analysts', 'said', 'Giving', 'in', 'to', 'the', 'demands', 'of', 'overseas', 'investors', 'Finance', 'Minister', 'Nirmala', 'Sitharaman', 'on', 'Friday', 'announced', 'rollback', 'of', 'enhanced', 'surcharge', 'on', 'foreign', 'portfolio', 'investors', 'levied', 'in', 'the', 'Budget', 'The', 'Budget', 'proposal', 'to', 'hike', 'surcharge', 'on', 'FPIs', 'had', 'spooked', 'foreign', 'investors', 'who', 'withdrew', 'more', 'than', 'billion', 'crore', 'from', 'domestic', 'equities', 'in', 'July', 'and', 'August', 'The', 'massive', 'capital', 'outflows', 'also', 'put', 'pressure', 'on', 'the', 'rupee', 'which', 'slumped', 'to', 'against', 'the', 'US', 'dollar', 'last', 'week', 'Withdrawal', 'of', 'enhanced', 'surcharge', 'on', 'FPI', 'is', 'a', 'big', 'positive', 'for', 'Indian', 'markets', 'as', 'it', 'could', 'reverse', 'the', 'outflows', 'seen', 'since', 'post', 'Budget', 'It', 'should', 'also', 'help', 'INR', 'appreciation', 'Overall', 'a', 'good', 'sentiment', 'booster', 'for', 'the', 'Indian', 'economy', 'said', 'Rusmik', 'Oza', 'Head', 'of', 'Fundamental', 'Research', 'Kotak', 'Securities', 'The', 'Centre', 'also', 'announced', 'a', 'raft', 'of', 'measures', 'to', 'revive', 'growth', 'momentum', 'including', 'exempting', 'startups', 'from', 'tax', 'a', 'package', 'to', 'address', 'distress', 'in', 'the', 'auto', 'sector', 'and', 'upfront', 'infusion', 'of', 'crore', 'into', 'public', 'sector', 'banks', 'Withdrawal', 'of', 'the', 'surcharge', 'on', 'FPIs', 'is', 'a', 'shot', 'in', 'the', 'arm', 'for', 'the', 'sagging', 'market', 'One', 'can', 'now', 'expect', 'reversal', 'of', 'the', 'FPI', 'selling', 'The', 'market', 'is', 'likely', 'to', 'look', 'up', 'from', 'now', 'on', 'VK', 'Vijayakumar', 'Chief', 'Investment', 'Strategist', 'Geojit', 'Financial', 'Services', 'said', 'However', 'sustained', 'rally', 'in', 'the', 'market', 'will', 'happen', 'only', 'when', 'we', 'have', 'visibility', 'on', 'good', 'earnings', 'growth', 'and', 'reversal', 'of', 'the', 'slowdown', 'underway', 'in', 'the', 'economy', 'This', 'requires', 'more', 'reforms', 'Vijayakumar', 'added', 'In', 'a', 'bid', 'to', 'address', 'slowdown', 'in', 'the', 'auto', 'sector', 'the', 'government', 'lifted', 'ban', 'on', 'purchase', 'of', 'vehicles', 'by', 'government', 'departments', 'and', 'allowed', 'additional', 'per', 'cent', 'depreciation', 'on', 'vehicles', 'acquired', 'from', 'now', 'till', 'March', 'The', 'revision', 'of', 'registration', 'fees', 'has', 'also', 'been', 'deferred', 'till', 'June', 'These', 'steps', 'are', 'likely', 'to', 'prop', 'up', 'the', 'automobile', 'sector', 'and', 'revive', 'demand', 'said', 'Ashwin', 'Patil', 'Senior', 'Research', 'Analyst', 'Auto', 'Sector', 'at', 'LKP', 'Securities', 'These', 'are', 'just', 'the', 'kind', 'of', 'measures', 'which', 'were', 'required', 'to', 'boost', 'the', 'economy', 'In', 'the', 'immediate', 'term', 'we', 'can', 'expect', 'the', 'markets', 'to', 'bounce', 'back', 'on', 'Monday', 'with', 'a', 'gap', 'up', 'opening', 'and', 'continue', 'the', 'rally', 'for', 'a', 'few', 'sessions', 'to', 'come', 'said', 'Amit', 'Gupta', 'and', 'CEO', 'of', 'TradingBells', 'Over', 'the', 'last', 'week', 'the', 'BSE', 'Sensex', 'lost', 'points', 'or', 'per', 'cent', 'On', 'Friday', 'the', 'benchmark', 'rebounded', 'points', 'ahead', 'of', 'the', 'finance', 'minister', 'address']\n"
     ]
    }
   ],
   "source": [
    "words =[]\n",
    "\n",
    "for word in tokens:\n",
    "    if word.isalpha():\n",
    "        words.append(word)\n",
    "        \n",
    "print(words)"
   ]
  },
  {
   "cell_type": "code",
   "execution_count": 28,
   "metadata": {},
   "outputs": [
    {
     "data": {
      "text/plain": [
       "'is financial Report of The share of large borrowers in Indian banks total loan portfolios stood at as on March The gross assets NPAs as a percentage of total loans stood at as on March Mumbai Indian banks continue to see an improvement in asset quality with bad loans as a percentage of total loans expected to fall to by March according to the Financial Stability Report released by the Reserve Bank of India RBI on Thursday The gross assets NPAs as a percentage of total loans stood at as on March According to the report stress tests done on public sector banks PSBs revealed that gross ratio may decline to by March from in March Private sector banks too could see a fall in gross NPAs to from during the same period These stress tests for credit risk were done to test the resilience of Indian banks against macroeconomic shocks It encompassed a baseline and two medium and severe adverse macroeconomic risk scenarios Under the baseline scenario the capital adequacy for banks is expected to come down to in March from in March As many as five SCBs may have CRAR below the minimum regulatory level of by March without taking into account any further planned recapitalisation by the government If macroeconomic conditions deteriorate nine SCBs may record CRAR below under a severe scenario said the report The stress test on banks credit concentration showed that eight banks accounting for of the total assets could be affected if top three individual borrowers failed to repay under an extreme scenario The share of large borrowers in banks total loan portfolios and their share in gross NPAs stood at and respectively as on March Efforts to improve the balance sheets of banks should therefor continue Among others there should be special focus on governance reforms in banks As far as PSBs are concerned the proof of the pudding lies in the PSBs ability to attract private capital through market discipline rather than being overly dependent on the government for capital said Shaktikanta Das in a foreword to the report A recent Crisil report also showed a significant reduction in NPAs to by March driven by resolution of stressed assets and slowing pace of fresh accretion to NPAs Public sector banks which account for over of the NPAs in the system should see their gross NPAs climb down to by March from a peak of in March the report said FPI surcharge removal stimulus measures likely to boost markets Experts min read Updated Aug PM IST PTI Finance Minister Nirmala Sitharaman on Friday announced rollback of enhanced surcharge on foreign portfolio investors levied in the Budget The Centre also announced a raft of measures to revive growth momentum including exempting startups from New Delhi The stock markets may see a relief rally this week after the government removed enhanced surcharge on FPIs and also unveiled various measures to jumpstart growth analysts said Giving in to the demands of overseas investors Finance Minister Nirmala Sitharaman on Friday announced rollback of enhanced surcharge on foreign portfolio investors levied in the Budget The Budget proposal to hike surcharge on FPIs had spooked foreign investors who withdrew more than billion crore from domestic equities in July and August The massive capital outflows also put pressure on the rupee which slumped to against the US dollar last week Withdrawal of enhanced surcharge on FPI is a big positive for Indian markets as it could reverse the outflows seen since post Budget It should also help INR appreciation Overall a good sentiment booster for the Indian economy said Rusmik Oza Head of Fundamental Research Kotak Securities The Centre also announced a raft of measures to revive growth momentum including exempting startups from tax a package to address distress in the auto sector and upfront infusion of crore into public sector banks Withdrawal of the surcharge on FPIs is a shot in the arm for the sagging market One can now expect reversal of the FPI selling The market is likely to look up from now on VK Vijayakumar Chief Investment Strategist Geojit Financial Services said However sustained rally in the market will happen only when we have visibility on good earnings growth and reversal of the slowdown underway in the economy This requires more reforms Vijayakumar added In a bid to address slowdown in the auto sector the government lifted ban on purchase of vehicles by government departments and allowed additional per cent depreciation on vehicles acquired from now till March The revision of registration fees has also been deferred till June These steps are likely to prop up the automobile sector and revive demand said Ashwin Patil Senior Research Analyst Auto Sector at LKP Securities These are just the kind of measures which were required to boost the economy In the immediate term we can expect the markets to bounce back on Monday with a gap up opening and continue the rally for a few sessions to come said Amit Gupta and CEO of TradingBells Over the last week the BSE Sensex lost points or per cent On Friday the benchmark rebounded points ahead of the finance minister address'"
      ]
     },
     "execution_count": 28,
     "metadata": {},
     "output_type": "execute_result"
    }
   ],
   "source": [
    "(' ').join(words)"
   ]
  },
  {
   "cell_type": "code",
   "execution_count": 30,
   "metadata": {},
   "outputs": [
    {
     "name": "stdout",
     "output_type": "stream",
     "text": [
      "['53', '2019', '2019', '9', '2020', '2019', '12', '2020', '2019', '2020', '14', '2019', '9', '2020', '9', '53', '2019', '8', '2020', '80', '2020', '2018', '2', '25', '2019', '15', '2020', '2020', '228']\n"
     ]
    }
   ],
   "source": [
    "words2 =[]\n",
    "\n",
    "for word in tokens:\n",
    "    if word.isnumeric():\n",
    "        words2.append(word)\n",
    "        \n",
    "print(words2)"
   ]
  },
  {
   "cell_type": "code",
   "execution_count": 31,
   "metadata": {},
   "outputs": [
    {
     "data": {
      "text/plain": [
       "['@john', 'lol', 'that', 'was', '#awesome', ':)']"
      ]
     },
     "execution_count": 31,
     "metadata": {},
     "output_type": "execute_result"
    }
   ],
   "source": [
    "from nltk.tokenize import TweetTokenizer\n",
    "tweet_tokenizer = TweetTokenizer()\n",
    "\n",
    "tweet_tokenizer.tokenize(\"@john lol that was #awesome :)\")"
   ]
  },
  {
   "cell_type": "code",
   "execution_count": 32,
   "metadata": {},
   "outputs": [
    {
     "data": {
      "text/plain": [
       "0"
      ]
     },
     "execution_count": 32,
     "metadata": {},
     "output_type": "execute_result"
    }
   ],
   "source": [
    "tweet_tokenizer.tokenize(\"@john lol that was #awesome :)\").count(\"awesome\")"
   ]
  },
  {
   "cell_type": "code",
   "execution_count": 33,
   "metadata": {},
   "outputs": [
    {
     "data": {
      "text/plain": [
       "1"
      ]
     },
     "execution_count": 33,
     "metadata": {},
     "output_type": "execute_result"
    }
   ],
   "source": [
    "tweet_tokenizer.tokenize(\"@john lol that was #awesome :)\").count(\"#awesome\")"
   ]
  },
  {
   "cell_type": "code",
   "execution_count": 34,
   "metadata": {},
   "outputs": [
    {
     "data": {
      "text/plain": [
       "0"
      ]
     },
     "execution_count": 34,
     "metadata": {},
     "output_type": "execute_result"
    }
   ],
   "source": [
    "tweet_tokenizer.tokenize(\"@john lol that was #awesome :)\").count(\"#\")"
   ]
  },
  {
   "cell_type": "code",
   "execution_count": 35,
   "metadata": {},
   "outputs": [
    {
     "data": {
      "text/plain": [
       "1"
      ]
     },
     "execution_count": 35,
     "metadata": {},
     "output_type": "execute_result"
    }
   ],
   "source": [
    "\"@john lol that was #awesome :)\".count(\"#\")"
   ]
  },
  {
   "cell_type": "code",
   "execution_count": null,
   "metadata": {},
   "outputs": [],
   "source": []
  }
 ],
 "metadata": {
  "kernelspec": {
   "display_name": "Python 3",
   "language": "python",
   "name": "python3"
  },
  "language_info": {
   "codemirror_mode": {
    "name": "ipython",
    "version": 3
   },
   "file_extension": ".py",
   "mimetype": "text/x-python",
   "name": "python",
   "nbconvert_exporter": "python",
   "pygments_lexer": "ipython3",
   "version": "3.8.5"
  }
 },
 "nbformat": 4,
 "nbformat_minor": 4
}
