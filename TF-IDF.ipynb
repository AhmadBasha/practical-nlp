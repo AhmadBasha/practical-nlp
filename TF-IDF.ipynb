{
 "cells": [
  {
   "cell_type": "markdown",
   "metadata": {},
   "source": [
    "## Term Frequency & inverse Document Frequency"
   ]
  },
  {
   "cell_type": "code",
   "execution_count": 1,
   "metadata": {},
   "outputs": [],
   "source": [
    "import pandas as pd\n",
    "\n",
    "from sklearn.feature_extraction.text import TfidfVectorizer\n",
    "\n",
    "pd.options.display.max_columns = None"
   ]
  },
  {
   "cell_type": "code",
   "execution_count": 2,
   "metadata": {},
   "outputs": [
    {
     "data": {
      "text/plain": [
       "['Data Science is an overlap between Arts and Science',\n",
       " 'Generally, Arts graduates are right-brained and Science graduates are left-brained',\n",
       " 'Excelling in both Arts and Science at a time becomes difficult',\n",
       " 'Natural Language Processing is a part of Data Science']"
      ]
     },
     "execution_count": 2,
     "metadata": {},
     "output_type": "execute_result"
    }
   ],
   "source": [
    "corpus = [\n",
    "\n",
    "'Data Science is an overlap between Arts and Science',\n",
    "\n",
    "'Generally, Arts graduates are right-brained and Science graduates are left-brained',\n",
    "\n",
    "'Excelling in both Arts and Science at a time becomes difficult',\n",
    "\n",
    "'Natural Language Processing is a part of Data Science'\n",
    "\n",
    "]\n",
    "\n",
    "\n",
    "corpus"
   ]
  },
  {
   "cell_type": "code",
   "execution_count": 4,
   "metadata": {},
   "outputs": [
    {
     "data": {
      "text/plain": [
       "<4x15 sparse matrix of type '<class 'numpy.float64'>'\n",
       "\twith 21 stored elements in Compressed Sparse Row format>"
      ]
     },
     "execution_count": 4,
     "metadata": {},
     "output_type": "execute_result"
    }
   ],
   "source": [
    "tfidf_model = TfidfVectorizer(ngram_range=(1,1),stop_words='english')\n",
    "\n",
    "data = tfidf_model.fit_transform(corpus)\n",
    "data"
   ]
  },
  {
   "cell_type": "code",
   "execution_count": 5,
   "metadata": {},
   "outputs": [
    {
     "name": "stdout",
     "output_type": "stream",
     "text": [
      "[[0.36145869 0.         0.4464734  0.         0.         0.\n",
      "  0.         0.         0.         0.         0.56629489 0.\n",
      "  0.         0.59103233 0.        ]\n",
      " [0.18676679 0.58521253 0.         0.         0.         0.29260626\n",
      "  0.58521253 0.         0.29260626 0.         0.         0.\n",
      "  0.29260626 0.15269409 0.        ]\n",
      " [0.33274238 0.         0.         0.52130524 0.52130524 0.\n",
      "  0.         0.         0.         0.         0.         0.\n",
      "  0.         0.2720387  0.52130524]\n",
      " [0.         0.         0.39953968 0.         0.         0.\n",
      "  0.         0.50676543 0.         0.50676543 0.         0.50676543\n",
      "  0.         0.26445122 0.        ]]\n"
     ]
    }
   ],
   "source": [
    "print(data.todense())"
   ]
  },
  {
   "cell_type": "code",
   "execution_count": 6,
   "metadata": {},
   "outputs": [
    {
     "data": {
      "text/plain": [
       "['arts',\n",
       " 'brained',\n",
       " 'data',\n",
       " 'difficult',\n",
       " 'excelling',\n",
       " 'generally',\n",
       " 'graduates',\n",
       " 'language',\n",
       " 'left',\n",
       " 'natural',\n",
       " 'overlap',\n",
       " 'processing',\n",
       " 'right',\n",
       " 'science',\n",
       " 'time']"
      ]
     },
     "execution_count": 6,
     "metadata": {},
     "output_type": "execute_result"
    }
   ],
   "source": [
    "tfidf_model.get_feature_names()"
   ]
  },
  {
   "cell_type": "code",
   "execution_count": 7,
   "metadata": {},
   "outputs": [
    {
     "data": {
      "text/plain": [
       "{'data': 2,\n",
       " 'science': 13,\n",
       " 'overlap': 10,\n",
       " 'arts': 0,\n",
       " 'generally': 5,\n",
       " 'graduates': 6,\n",
       " 'right': 12,\n",
       " 'brained': 1,\n",
       " 'left': 8,\n",
       " 'excelling': 4,\n",
       " 'time': 14,\n",
       " 'difficult': 3,\n",
       " 'natural': 9,\n",
       " 'language': 7,\n",
       " 'processing': 11}"
      ]
     },
     "execution_count": 7,
     "metadata": {},
     "output_type": "execute_result"
    }
   ],
   "source": [
    "# the number here is the column number \n",
    "tfidf_model.vocabulary_"
   ]
  },
  {
   "cell_type": "code",
   "execution_count": 8,
   "metadata": {},
   "outputs": [
    {
     "data": {
      "text/plain": [
       "array([1.22314355, 1.91629073, 1.51082562, 1.91629073, 1.91629073,\n",
       "       1.91629073, 1.91629073, 1.91629073, 1.91629073, 1.91629073,\n",
       "       1.91629073, 1.91629073, 1.91629073, 1.        , 1.91629073])"
      ]
     },
     "execution_count": 8,
     "metadata": {},
     "output_type": "execute_result"
    }
   ],
   "source": [
    " # this is just idf \n",
    "tfidf_model.idf_"
   ]
  },
  {
   "cell_type": "code",
   "execution_count": 9,
   "metadata": {},
   "outputs": [
    {
     "data": {
      "text/html": [
       "<div>\n",
       "<style scoped>\n",
       "    .dataframe tbody tr th:only-of-type {\n",
       "        vertical-align: middle;\n",
       "    }\n",
       "\n",
       "    .dataframe tbody tr th {\n",
       "        vertical-align: top;\n",
       "    }\n",
       "\n",
       "    .dataframe thead th {\n",
       "        text-align: right;\n",
       "    }\n",
       "</style>\n",
       "<table border=\"1\" class=\"dataframe\">\n",
       "  <thead>\n",
       "    <tr style=\"text-align: right;\">\n",
       "      <th></th>\n",
       "      <th>0</th>\n",
       "    </tr>\n",
       "  </thead>\n",
       "  <tbody>\n",
       "    <tr>\n",
       "      <th>arts</th>\n",
       "      <td>1.223144</td>\n",
       "    </tr>\n",
       "    <tr>\n",
       "      <th>brained</th>\n",
       "      <td>1.916291</td>\n",
       "    </tr>\n",
       "    <tr>\n",
       "      <th>data</th>\n",
       "      <td>1.510826</td>\n",
       "    </tr>\n",
       "    <tr>\n",
       "      <th>difficult</th>\n",
       "      <td>1.916291</td>\n",
       "    </tr>\n",
       "    <tr>\n",
       "      <th>excelling</th>\n",
       "      <td>1.916291</td>\n",
       "    </tr>\n",
       "    <tr>\n",
       "      <th>generally</th>\n",
       "      <td>1.916291</td>\n",
       "    </tr>\n",
       "    <tr>\n",
       "      <th>graduates</th>\n",
       "      <td>1.916291</td>\n",
       "    </tr>\n",
       "    <tr>\n",
       "      <th>language</th>\n",
       "      <td>1.916291</td>\n",
       "    </tr>\n",
       "    <tr>\n",
       "      <th>left</th>\n",
       "      <td>1.916291</td>\n",
       "    </tr>\n",
       "    <tr>\n",
       "      <th>natural</th>\n",
       "      <td>1.916291</td>\n",
       "    </tr>\n",
       "    <tr>\n",
       "      <th>overlap</th>\n",
       "      <td>1.916291</td>\n",
       "    </tr>\n",
       "    <tr>\n",
       "      <th>processing</th>\n",
       "      <td>1.916291</td>\n",
       "    </tr>\n",
       "    <tr>\n",
       "      <th>right</th>\n",
       "      <td>1.916291</td>\n",
       "    </tr>\n",
       "    <tr>\n",
       "      <th>science</th>\n",
       "      <td>1.000000</td>\n",
       "    </tr>\n",
       "    <tr>\n",
       "      <th>time</th>\n",
       "      <td>1.916291</td>\n",
       "    </tr>\n",
       "  </tbody>\n",
       "</table>\n",
       "</div>"
      ],
      "text/plain": [
       "                   0\n",
       "arts        1.223144\n",
       "brained     1.916291\n",
       "data        1.510826\n",
       "difficult   1.916291\n",
       "excelling   1.916291\n",
       "generally   1.916291\n",
       "graduates   1.916291\n",
       "language    1.916291\n",
       "left        1.916291\n",
       "natural     1.916291\n",
       "overlap     1.916291\n",
       "processing  1.916291\n",
       "right       1.916291\n",
       "science     1.000000\n",
       "time        1.916291"
      ]
     },
     "execution_count": 9,
     "metadata": {},
     "output_type": "execute_result"
    }
   ],
   "source": [
    "# for the idf \n",
    "pd.DataFrame(tfidf_model.idf_, index=tfidf_model.get_feature_names())"
   ]
  },
  {
   "cell_type": "code",
   "execution_count": 10,
   "metadata": {},
   "outputs": [
    {
     "data": {
      "text/html": [
       "<div>\n",
       "<style scoped>\n",
       "    .dataframe tbody tr th:only-of-type {\n",
       "        vertical-align: middle;\n",
       "    }\n",
       "\n",
       "    .dataframe tbody tr th {\n",
       "        vertical-align: top;\n",
       "    }\n",
       "\n",
       "    .dataframe thead th {\n",
       "        text-align: right;\n",
       "    }\n",
       "</style>\n",
       "<table border=\"1\" class=\"dataframe\">\n",
       "  <thead>\n",
       "    <tr style=\"text-align: right;\">\n",
       "      <th></th>\n",
       "      <th>arts</th>\n",
       "      <th>brained</th>\n",
       "      <th>data</th>\n",
       "      <th>difficult</th>\n",
       "      <th>excelling</th>\n",
       "      <th>generally</th>\n",
       "      <th>graduates</th>\n",
       "      <th>language</th>\n",
       "      <th>left</th>\n",
       "      <th>natural</th>\n",
       "      <th>overlap</th>\n",
       "      <th>processing</th>\n",
       "      <th>right</th>\n",
       "      <th>science</th>\n",
       "      <th>time</th>\n",
       "    </tr>\n",
       "  </thead>\n",
       "  <tbody>\n",
       "    <tr>\n",
       "      <th>0</th>\n",
       "      <td>0.361459</td>\n",
       "      <td>0.000000</td>\n",
       "      <td>0.446473</td>\n",
       "      <td>0.000000</td>\n",
       "      <td>0.000000</td>\n",
       "      <td>0.000000</td>\n",
       "      <td>0.000000</td>\n",
       "      <td>0.000000</td>\n",
       "      <td>0.000000</td>\n",
       "      <td>0.000000</td>\n",
       "      <td>0.566295</td>\n",
       "      <td>0.000000</td>\n",
       "      <td>0.000000</td>\n",
       "      <td>0.591032</td>\n",
       "      <td>0.000000</td>\n",
       "    </tr>\n",
       "    <tr>\n",
       "      <th>1</th>\n",
       "      <td>0.186767</td>\n",
       "      <td>0.585213</td>\n",
       "      <td>0.000000</td>\n",
       "      <td>0.000000</td>\n",
       "      <td>0.000000</td>\n",
       "      <td>0.292606</td>\n",
       "      <td>0.585213</td>\n",
       "      <td>0.000000</td>\n",
       "      <td>0.292606</td>\n",
       "      <td>0.000000</td>\n",
       "      <td>0.000000</td>\n",
       "      <td>0.000000</td>\n",
       "      <td>0.292606</td>\n",
       "      <td>0.152694</td>\n",
       "      <td>0.000000</td>\n",
       "    </tr>\n",
       "    <tr>\n",
       "      <th>2</th>\n",
       "      <td>0.332742</td>\n",
       "      <td>0.000000</td>\n",
       "      <td>0.000000</td>\n",
       "      <td>0.521305</td>\n",
       "      <td>0.521305</td>\n",
       "      <td>0.000000</td>\n",
       "      <td>0.000000</td>\n",
       "      <td>0.000000</td>\n",
       "      <td>0.000000</td>\n",
       "      <td>0.000000</td>\n",
       "      <td>0.000000</td>\n",
       "      <td>0.000000</td>\n",
       "      <td>0.000000</td>\n",
       "      <td>0.272039</td>\n",
       "      <td>0.521305</td>\n",
       "    </tr>\n",
       "    <tr>\n",
       "      <th>3</th>\n",
       "      <td>0.000000</td>\n",
       "      <td>0.000000</td>\n",
       "      <td>0.399540</td>\n",
       "      <td>0.000000</td>\n",
       "      <td>0.000000</td>\n",
       "      <td>0.000000</td>\n",
       "      <td>0.000000</td>\n",
       "      <td>0.506765</td>\n",
       "      <td>0.000000</td>\n",
       "      <td>0.506765</td>\n",
       "      <td>0.000000</td>\n",
       "      <td>0.506765</td>\n",
       "      <td>0.000000</td>\n",
       "      <td>0.264451</td>\n",
       "      <td>0.000000</td>\n",
       "    </tr>\n",
       "  </tbody>\n",
       "</table>\n",
       "</div>"
      ],
      "text/plain": [
       "       arts   brained      data  difficult  excelling  generally  graduates  \\\n",
       "0  0.361459  0.000000  0.446473   0.000000   0.000000   0.000000   0.000000   \n",
       "1  0.186767  0.585213  0.000000   0.000000   0.000000   0.292606   0.585213   \n",
       "2  0.332742  0.000000  0.000000   0.521305   0.521305   0.000000   0.000000   \n",
       "3  0.000000  0.000000  0.399540   0.000000   0.000000   0.000000   0.000000   \n",
       "\n",
       "   language      left   natural   overlap  processing     right   science  \\\n",
       "0  0.000000  0.000000  0.000000  0.566295    0.000000  0.000000  0.591032   \n",
       "1  0.000000  0.292606  0.000000  0.000000    0.000000  0.292606  0.152694   \n",
       "2  0.000000  0.000000  0.000000  0.000000    0.000000  0.000000  0.272039   \n",
       "3  0.506765  0.000000  0.506765  0.000000    0.506765  0.000000  0.264451   \n",
       "\n",
       "       time  \n",
       "0  0.000000  \n",
       "1  0.000000  \n",
       "2  0.521305  \n",
       "3  0.000000  "
      ]
     },
     "execution_count": 10,
     "metadata": {},
     "output_type": "execute_result"
    }
   ],
   "source": [
    "# this is in general \n",
    "tfidf_df = pd.DataFrame(data.todense(),columns=tfidf_model.get_feature_names())\n",
    "\n",
    "\n",
    "\n",
    "tfidf_df.head()"
   ]
  },
  {
   "cell_type": "code",
   "execution_count": null,
   "metadata": {},
   "outputs": [],
   "source": []
  }
 ],
 "metadata": {
  "kernelspec": {
   "display_name": "Python 3",
   "language": "python",
   "name": "python3"
  },
  "language_info": {
   "codemirror_mode": {
    "name": "ipython",
    "version": 3
   },
   "file_extension": ".py",
   "mimetype": "text/x-python",
   "name": "python",
   "nbconvert_exporter": "python",
   "pygments_lexer": "ipython3",
   "version": "3.8.5"
  }
 },
 "nbformat": 4,
 "nbformat_minor": 4
}
