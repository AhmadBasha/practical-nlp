{
 "cells": [
  {
   "cell_type": "markdown",
   "metadata": {},
   "source": [
    "# Textblob"
   ]
  },
  {
   "cell_type": "code",
   "execution_count": 1,
   "metadata": {},
   "outputs": [
    {
     "name": "stdout",
     "output_type": "stream",
     "text": [
      "Requirement already satisfied: textblob in /Users/ahmadbasha/opt/anaconda3/lib/python3.8/site-packages (0.15.3)\n",
      "Requirement already satisfied: nltk>=3.1 in /Users/ahmadbasha/opt/anaconda3/lib/python3.8/site-packages (from textblob) (3.5)\n",
      "Requirement already satisfied: click in /Users/ahmadbasha/opt/anaconda3/lib/python3.8/site-packages (from nltk>=3.1->textblob) (7.1.2)\n",
      "Requirement already satisfied: tqdm in /Users/ahmadbasha/opt/anaconda3/lib/python3.8/site-packages (from nltk>=3.1->textblob) (4.50.2)\n",
      "Requirement already satisfied: joblib in /Users/ahmadbasha/opt/anaconda3/lib/python3.8/site-packages (from nltk>=3.1->textblob) (0.17.0)\n",
      "Requirement already satisfied: regex in /Users/ahmadbasha/opt/anaconda3/lib/python3.8/site-packages (from nltk>=3.1->textblob) (2020.10.15)\n"
     ]
    }
   ],
   "source": [
    "!pip install textblob"
   ]
  },
  {
   "cell_type": "code",
   "execution_count": 2,
   "metadata": {},
   "outputs": [
    {
     "name": "stdout",
     "output_type": "stream",
     "text": [
      "[nltk_data] Downloading package brown to\n",
      "[nltk_data]     /Users/ahmadbasha/nltk_data...\n",
      "[nltk_data]   Package brown is already up-to-date!\n",
      "[nltk_data] Downloading package punkt to\n",
      "[nltk_data]     /Users/ahmadbasha/nltk_data...\n",
      "[nltk_data]   Package punkt is already up-to-date!\n",
      "[nltk_data] Downloading package wordnet to\n",
      "[nltk_data]     /Users/ahmadbasha/nltk_data...\n",
      "[nltk_data]   Package wordnet is already up-to-date!\n",
      "[nltk_data] Downloading package averaged_perceptron_tagger to\n",
      "[nltk_data]     /Users/ahmadbasha/nltk_data...\n",
      "[nltk_data]   Package averaged_perceptron_tagger is already up-to-\n",
      "[nltk_data]       date!\n",
      "[nltk_data] Downloading package conll2000 to\n",
      "[nltk_data]     /Users/ahmadbasha/nltk_data...\n",
      "[nltk_data]   Package conll2000 is already up-to-date!\n",
      "[nltk_data] Downloading package movie_reviews to\n",
      "[nltk_data]     /Users/ahmadbasha/nltk_data...\n",
      "[nltk_data]   Package movie_reviews is already up-to-date!\n",
      "Finished.\n"
     ]
    }
   ],
   "source": [
    "!python -m textblob.download_corpora"
   ]
  },
  {
   "cell_type": "code",
   "execution_count": 3,
   "metadata": {},
   "outputs": [],
   "source": [
    "# First, the import.\n",
    "import textblob\n",
    "from textblob import TextBlob\n",
    "from textblob import Word\n",
    "\n",
    "# from textblob.wordnet import VERB\n",
    "from textblob.classifiers import NaiveBayesClassifier"
   ]
  },
  {
   "cell_type": "code",
   "execution_count": 4,
   "metadata": {},
   "outputs": [],
   "source": [
    "wiki = TextBlob(\"Python is a high-level, general-purpose programming language.\")"
   ]
  },
  {
   "cell_type": "code",
   "execution_count": 5,
   "metadata": {},
   "outputs": [
    {
     "data": {
      "text/plain": [
       "TextBlob(\"Python is a high-level, general-purpose programming language.\")"
      ]
     },
     "execution_count": 5,
     "metadata": {},
     "output_type": "execute_result"
    }
   ],
   "source": [
    "wiki"
   ]
  },
  {
   "cell_type": "code",
   "execution_count": 6,
   "metadata": {},
   "outputs": [
    {
     "data": {
      "text/plain": [
       "WordList(['Python', 'is', 'a', 'high-level', 'general-purpose', 'programming', 'language'])"
      ]
     },
     "execution_count": 6,
     "metadata": {},
     "output_type": "execute_result"
    }
   ],
   "source": [
    "wiki.words"
   ]
  },
  {
   "cell_type": "markdown",
   "metadata": {},
   "source": [
    "# Tokenization"
   ]
  },
  {
   "cell_type": "code",
   "execution_count": 7,
   "metadata": {},
   "outputs": [],
   "source": [
    "zen = TextBlob(\"Mr. Beautiful is better, than ugly. \"\n",
    "               \"Explicit is better than implicit. \"\n",
    "               \"Simple is better than complex.\")"
   ]
  },
  {
   "cell_type": "code",
   "execution_count": 8,
   "metadata": {},
   "outputs": [
    {
     "data": {
      "text/plain": [
       "WordList(['Mr', 'Beautiful', 'is', 'better', 'than', 'ugly', 'Explicit', 'is', 'better', 'than', 'implicit', 'Simple', 'is', 'better', 'than', 'complex'])"
      ]
     },
     "execution_count": 8,
     "metadata": {},
     "output_type": "execute_result"
    }
   ],
   "source": [
    "zen.words # tokenization"
   ]
  },
  {
   "cell_type": "code",
   "execution_count": 9,
   "metadata": {},
   "outputs": [
    {
     "data": {
      "text/plain": [
       "3"
      ]
     },
     "execution_count": 9,
     "metadata": {},
     "output_type": "execute_result"
    }
   ],
   "source": [
    "zen.words.count('Better') # lowwer case is done"
   ]
  },
  {
   "cell_type": "code",
   "execution_count": 10,
   "metadata": {},
   "outputs": [
    {
     "data": {
      "text/plain": [
       "[Sentence(\"Mr. Beautiful is better, than ugly.\"),\n",
       " Sentence(\"Explicit is better than implicit.\"),\n",
       " Sentence(\"Simple is better than complex.\")]"
      ]
     },
     "execution_count": 10,
     "metadata": {},
     "output_type": "execute_result"
    }
   ],
   "source": [
    "zen.sentences"
   ]
  },
  {
   "cell_type": "markdown",
   "metadata": {},
   "source": [
    "# Words and noun phrase counts\n",
    "\n",
    "# Using word_counts dictionary."
   ]
  },
  {
   "cell_type": "code",
   "execution_count": 11,
   "metadata": {},
   "outputs": [],
   "source": [
    "monty = TextBlob(\"We are no longer the Knights who say Delhi India. \"\n",
    "                 \"We are now the Knights who say Ekki ekki ekki PTANG.\")"
   ]
  },
  {
   "cell_type": "code",
   "execution_count": 12,
   "metadata": {},
   "outputs": [
    {
     "data": {
      "text/plain": [
       "defaultdict(int,\n",
       "            {'we': 2,\n",
       "             'are': 2,\n",
       "             'no': 1,\n",
       "             'longer': 1,\n",
       "             'the': 2,\n",
       "             'knights': 2,\n",
       "             'who': 2,\n",
       "             'say': 2,\n",
       "             'delhi': 1,\n",
       "             'india': 1,\n",
       "             'now': 1,\n",
       "             'ekki': 3,\n",
       "             'ptang': 1})"
      ]
     },
     "execution_count": 12,
     "metadata": {},
     "output_type": "execute_result"
    }
   ],
   "source": [
    "monty.word_counts "
   ]
  },
  {
   "cell_type": "code",
   "execution_count": 13,
   "metadata": {},
   "outputs": [
    {
     "data": {
      "text/plain": [
       "3"
      ]
     },
     "execution_count": 13,
     "metadata": {},
     "output_type": "execute_result"
    }
   ],
   "source": [
    "monty.word_counts['ekki']"
   ]
  },
  {
   "cell_type": "code",
   "execution_count": 14,
   "metadata": {},
   "outputs": [
    {
     "data": {
      "text/plain": [
       "0"
      ]
     },
     "execution_count": 14,
     "metadata": {},
     "output_type": "execute_result"
    }
   ],
   "source": [
    "# case sensitive\n",
    "monty.word_counts['PTANG']"
   ]
  },
  {
   "cell_type": "code",
   "execution_count": 15,
   "metadata": {},
   "outputs": [
    {
     "data": {
      "text/plain": [
       "1"
      ]
     },
     "execution_count": 15,
     "metadata": {},
     "output_type": "execute_result"
    }
   ],
   "source": [
    "# no case sensitive\n",
    "monty.words.count('PTANG', case_sensitive=True)"
   ]
  },
  {
   "cell_type": "markdown",
   "metadata": {},
   "source": [
    "# Words Inflection and Lemmatization"
   ]
  },
  {
   "cell_type": "code",
   "execution_count": 16,
   "metadata": {},
   "outputs": [],
   "source": [
    "sentence = TextBlob('Uses 4 spaces per indentation levels. We are no longer the Knights who says Delhi India Germany Bharat.')"
   ]
  },
  {
   "cell_type": "code",
   "execution_count": 17,
   "metadata": {},
   "outputs": [
    {
     "data": {
      "text/plain": [
       "WordList(['Uses', '4', 'spaces', 'per', 'indentation', 'levels', 'We', 'are', 'no', 'longer', 'the', 'Knights', 'who', 'says', 'Delhi', 'India', 'Germany', 'Bharat'])"
      ]
     },
     "execution_count": 17,
     "metadata": {},
     "output_type": "execute_result"
    }
   ],
   "source": [
    "sentence.words"
   ]
  },
  {
   "cell_type": "code",
   "execution_count": 18,
   "metadata": {},
   "outputs": [
    {
     "data": {
      "text/plain": [
       "WordList(['Use', '4', 'space', 'per', 'indentation', 'level', 'We', 'are', 'no', 'longer', 'the', 'Knight', 'who', 'say', 'Delhi', 'Indium', 'Germany', 'Bharat'])"
      ]
     },
     "execution_count": 18,
     "metadata": {},
     "output_type": "execute_result"
    }
   ],
   "source": [
    "sentence.words.singularize()"
   ]
  },
  {
   "cell_type": "code",
   "execution_count": 19,
   "metadata": {},
   "outputs": [
    {
     "data": {
      "text/plain": [
       "'space'"
      ]
     },
     "execution_count": 19,
     "metadata": {},
     "output_type": "execute_result"
    }
   ],
   "source": [
    "sentence.words[2].singularize()"
   ]
  },
  {
   "cell_type": "code",
   "execution_count": 20,
   "metadata": {},
   "outputs": [
    {
     "data": {
      "text/plain": [
       "WordList(['Usess', '4s', 'spacess', 'pers', 'indentations', 'levelss', 'Wes', 'ares', 'noes', 'longers', 'thes', 'Knightss', 'whoes', 'sayss', 'Delhis', 'Indias', 'Germanys', 'Bharats'])"
      ]
     },
     "execution_count": 20,
     "metadata": {},
     "output_type": "execute_result"
    }
   ],
   "source": [
    "sentence.words.pluralize()"
   ]
  },
  {
   "cell_type": "code",
   "execution_count": 21,
   "metadata": {},
   "outputs": [
    {
     "data": {
      "text/plain": [
       "WordList(['Delhis', 'Indias', 'Germanys'])"
      ]
     },
     "execution_count": 21,
     "metadata": {},
     "output_type": "execute_result"
    }
   ],
   "source": [
    "sentence.words[-4:-1].pluralize()"
   ]
  },
  {
   "cell_type": "code",
   "execution_count": 22,
   "metadata": {},
   "outputs": [
    {
     "data": {
      "text/plain": [
       "'stripe'"
      ]
     },
     "execution_count": 22,
     "metadata": {},
     "output_type": "execute_result"
    }
   ],
   "source": [
    "w = Word(\"stripes\", pos_tag = 'n')\n",
    "w.lemmatize()"
   ]
  },
  {
   "cell_type": "code",
   "execution_count": 23,
   "metadata": {},
   "outputs": [
    {
     "data": {
      "text/plain": [
       "'go'"
      ]
     },
     "execution_count": 23,
     "metadata": {},
     "output_type": "execute_result"
    }
   ],
   "source": [
    "w = Word(\"went\")\n",
    "w.lemmatize('v') "
   ]
  },
  {
   "cell_type": "markdown",
   "metadata": {},
   "source": [
    "# POS tagging"
   ]
  },
  {
   "cell_type": "code",
   "execution_count": 24,
   "metadata": {},
   "outputs": [
    {
     "data": {
      "text/plain": [
       "[('Beautiful', 'NNP'),\n",
       " ('is', 'VBZ'),\n",
       " ('better', 'JJR'),\n",
       " ('than', 'IN'),\n",
       " ('ugly', 'RB'),\n",
       " ('Explicit', 'NNP'),\n",
       " ('is', 'VBZ'),\n",
       " ('better', 'JJR'),\n",
       " ('than', 'IN'),\n",
       " ('implicit', 'NN'),\n",
       " ('Simple', 'NN'),\n",
       " ('is', 'VBZ'),\n",
       " ('better', 'JJR'),\n",
       " ('than', 'IN'),\n",
       " ('complex', 'JJ')]"
      ]
     },
     "execution_count": 24,
     "metadata": {},
     "output_type": "execute_result"
    }
   ],
   "source": [
    "zen = TextBlob(\"Beautiful is better than ugly. \"\n",
    "               \"Explicit is better than implicit. \"\n",
    "               \"Simple is better than complex.\")\n",
    "zen.tags"
   ]
  },
  {
   "cell_type": "code",
   "execution_count": 25,
   "metadata": {},
   "outputs": [
    {
     "name": "stdout",
     "output_type": "stream",
     "text": [
      "beautiful => NNP\n",
      "is => VBZ\n",
      "better => JJR\n",
      "than => IN\n",
      "ugly => RB\n",
      "explicit => NNP\n",
      "is => VBZ\n",
      "better => JJR\n",
      "than => IN\n",
      "implicit => NN\n",
      "simple => NN\n",
      "is => VBZ\n",
      "better => JJR\n",
      "than => IN\n",
      "complex => JJ\n"
     ]
    }
   ],
   "source": [
    "for word, pos in zen.tags:\n",
    "    print(word.lower() + \" => \" + pos)"
   ]
  },
  {
   "cell_type": "markdown",
   "metadata": {},
   "source": [
    "# Noun Phrase Extraction"
   ]
  },
  {
   "cell_type": "code",
   "execution_count": 26,
   "metadata": {},
   "outputs": [],
   "source": [
    "document = (\"In computer science, artificial intelligence (AI), \\\n",
    "            sometimes called machine intelligence, is intelligence \\\n",
    "            demonstrated by machines, in contrast to the natural intelligence \\\n",
    "            displayed by humans and animals. Computer science defines AI \\\n",
    "            research as the study of \\\"intelligent agents\\\": any device that \\\n",
    "            perceives its environment and takes actions that maximize its\\\n",
    "            chance of successfully achieving its goals.[1] Colloquially,\\\n",
    "            the term \\\"artificial intelligence\\\" is used to describe machines\\\n",
    "            that mimic \\\"cognitive\\\" functions that humans associate with other\\\n",
    "            human minds, such as \\\"learning\\\" and \\\"problem solving\\\".[2]\")"
   ]
  },
  {
   "cell_type": "code",
   "execution_count": 27,
   "metadata": {},
   "outputs": [
    {
     "name": "stdout",
     "output_type": "stream",
     "text": [
      "computer science\n",
      "artificial intelligence\n",
      "ai\n",
      "machine intelligence\n",
      "natural intelligence\n",
      "computer\n",
      "science defines\n",
      "ai\n",
      "intelligent agents\n",
      "colloquially\n",
      "artificial intelligence\n",
      "describe machines\n",
      "human minds\n"
     ]
    }
   ],
   "source": [
    "text_blob_object = TextBlob(document)\n",
    "\n",
    "\n",
    "for noun_phrase in text_blob_object.noun_phrases:\n",
    "    \n",
    "    print(noun_phrase)"
   ]
  },
  {
   "cell_type": "code",
   "execution_count": 28,
   "metadata": {},
   "outputs": [
    {
     "data": {
      "text/plain": [
       "WordList(['computer science', 'artificial intelligence', 'ai', 'machine intelligence', 'natural intelligence', 'computer', 'science defines', 'ai', 'intelligent agents', 'colloquially', 'artificial intelligence', 'describe machines', 'human minds'])"
      ]
     },
     "execution_count": 28,
     "metadata": {},
     "output_type": "execute_result"
    }
   ],
   "source": [
    "text_blob_object.noun_phrases"
   ]
  },
  {
   "cell_type": "markdown",
   "metadata": {},
   "source": [
    "# Spelling Correction"
   ]
  },
  {
   "cell_type": "markdown",
   "metadata": {},
   "source": [
    "Spelling correction is based on Peter Norvig’s “How to Write a Spelling Corrector” as implemented in the pattern library. It is about 70% accurate"
   ]
  },
  {
   "cell_type": "code",
   "execution_count": 29,
   "metadata": {},
   "outputs": [
    {
     "name": "stdout",
     "output_type": "stream",
     "text": [
      "I have written good spelling!.\n",
      "spelling correction is based.\n",
      "how took write a spelling correct\n"
     ]
    }
   ],
   "source": [
    "b = TextBlob(\"I havv written goood speling!. speling corection is based. howw tooo writt a speling corect \")\n",
    "\n",
    "for i in b.sentences:\n",
    "    \n",
    "    print(i.correct())"
   ]
  },
  {
   "cell_type": "code",
   "execution_count": 30,
   "metadata": {},
   "outputs": [
    {
     "data": {
      "text/plain": [
       "TextBlob(\"I have written good spelling!. spelling correction is based. how took write a spelling correct \")"
      ]
     },
     "execution_count": 30,
     "metadata": {},
     "output_type": "execute_result"
    }
   ],
   "source": [
    "b.correct()"
   ]
  },
  {
   "cell_type": "code",
   "execution_count": 31,
   "metadata": {},
   "outputs": [
    {
     "data": {
      "text/plain": [
       "TextBlob(\"The french fires her good at the restaurant\")"
      ]
     },
     "execution_count": 31,
     "metadata": {},
     "output_type": "execute_result"
    }
   ],
   "source": [
    "b = TextBlob(\"Thh frenh fries wer good at the resturat\")\n",
    "\n",
    "b.correct()"
   ]
  },
  {
   "cell_type": "code",
   "execution_count": 32,
   "metadata": {},
   "outputs": [
    {
     "data": {
      "text/plain": [
       "[('fallibility', 1.0)]"
      ]
     },
     "execution_count": 32,
     "metadata": {},
     "output_type": "execute_result"
    }
   ],
   "source": [
    "from textblob import Word\n",
    "w = Word('falibility')\n",
    "\n",
    "w.spellcheck()# 1 is the confidnece"
   ]
  },
  {
   "cell_type": "code",
   "execution_count": 33,
   "metadata": {},
   "outputs": [
    {
     "name": "stdout",
     "output_type": "stream",
     "text": [
      "[('Oh', 0.47953216374269003), ('Ah', 0.2596491228070175), ('Eh', 0.10409356725146199), ('H', 0.09239766081871345), ('Th', 0.05964912280701754), ('Ch', 0.0035087719298245615), ('Wh', 0.0011695906432748538)] \n",
      "\n",
      "\n",
      "[('french', 0.8699186991869918), ('fresh', 0.13008130081300814)] \n",
      "\n",
      "\n",
      "[('fires', 0.4222222222222222), ('cries', 0.34444444444444444), ('flies', 0.08888888888888889), ('tries', 0.05555555555555555), ('dries', 0.044444444444444446), ('furies', 0.011111111111111112), ('frise', 0.011111111111111112), ('fried', 0.011111111111111112), ('frees', 0.011111111111111112)] \n",
      "\n",
      "\n",
      "[('her', 0.4200985848306567), ('were', 0.34099220861822227), ('we', 0.15153442518683416), ('war', 0.07004293210367309), ('per', 0.0068373350294164414), ('wet', 0.0047702337414533315), ('wear', 0.0023851168707266657), ('web', 0.0016695818095086659), ('er', 0.0003975194784544443), ('der', 0.0003975194784544443), ('wee', 0.00023851168707266656), ('weir', 0.0001590077913817777), ('ver', 0.0001590077913817777), ('yer', 7.950389569088885e-05), ('wert', 7.950389569088885e-05), ('wen', 7.950389569088885e-05), ('wed', 7.950389569088885e-05)] \n",
      "\n",
      "\n",
      "[('good', 1.0)] \n",
      "\n",
      "\n",
      "[('at', 1.0)] \n",
      "\n",
      "\n",
      "[('the', 1.0)] \n",
      "\n",
      "\n",
      "[('result', 0.5701624815361891), ('return', 0.28064992614475626), ('gesture', 0.08862629246676514), ('restore', 0.0413589364844904), ('resort', 0.01624815361890694), ('retort', 0.0029542097488921715)] \n",
      "\n",
      "\n"
     ]
    }
   ],
   "source": [
    "b = TextBlob(\"Th frenh fries wer good at the resturt\")\n",
    "\n",
    "for i in b.words:    \n",
    "    print(i.spellcheck(),'\\n\\n')"
   ]
  },
  {
   "cell_type": "markdown",
   "metadata": {},
   "source": [
    "# Translation and Language Detection"
   ]
  },
  {
   "cell_type": "markdown",
   "metadata": {},
   "source": [
    "\n",
    "One of the most powerful capabilities of the TextBlob library is to translate from one language to another. On the backend, the TextBlob language translator uses the __Google Translate API__\n",
    "\n",
    "\n",
    "\n",
    "https://cloud.google.com/translate/docs/languages"
   ]
  },
  {
   "cell_type": "markdown",
   "metadata": {},
   "source": [
    "#### before running translation part try and see this source \n",
    "https://github.com/sloria/TextBlob/issues/397"
   ]
  },
  {
   "cell_type": "markdown",
   "metadata": {},
   "source": [
    "en_blob = TextBlob('Simple is better than complex.')"
   ]
  },
  {
   "cell_type": "code",
   "execution_count": 40,
   "metadata": {},
   "outputs": [],
   "source": [
    "#en_blob.translate(to = 'ar') # "
   ]
  },
  {
   "cell_type": "code",
   "execution_count": 41,
   "metadata": {},
   "outputs": [],
   "source": [
    "chinese_blob = TextBlob(\"美丽优于丑陋\")\n",
    "\n",
    "#chinese_blob.translate(from_lang=\"zh-CN\", to='en') # en == english"
   ]
  },
  {
   "cell_type": "code",
   "execution_count": 44,
   "metadata": {},
   "outputs": [],
   "source": [
    "b = TextBlob(\"بسيط هو أفضل من مجمع\")\n",
    "# b.detect_language()"
   ]
  },
  {
   "cell_type": "markdown",
   "metadata": {},
   "source": [
    "## n-grams\n",
    "\n",
    "N-Grams refer to n combination of words in a sentence. For instance, for a sentence \"I love watching football\", some 2-grams would be (I love), (love watching) and (watching football). \n",
    "\n",
    "N-Grams can play a crucial role in text classification.\n",
    "\n",
    "The TextBlob.ngrams() method returns a list of tuples of n successive words."
   ]
  },
  {
   "cell_type": "code",
   "execution_count": 45,
   "metadata": {},
   "outputs": [],
   "source": [
    "blob = TextBlob(\"Now is better than never.\")"
   ]
  },
  {
   "cell_type": "code",
   "execution_count": 46,
   "metadata": {},
   "outputs": [
    {
     "data": {
      "text/plain": [
       "[WordList(['Now', 'is']),\n",
       " WordList(['is', 'better']),\n",
       " WordList(['better', 'than']),\n",
       " WordList(['than', 'never'])]"
      ]
     },
     "execution_count": 46,
     "metadata": {},
     "output_type": "execute_result"
    }
   ],
   "source": [
    "blob.ngrams(n=2)"
   ]
  },
  {
   "cell_type": "markdown",
   "metadata": {},
   "source": [
    "# WordNet Integration"
   ]
  },
  {
   "cell_type": "code",
   "execution_count": 48,
   "metadata": {},
   "outputs": [
    {
     "data": {
      "text/plain": [
       "[Synset('base_on_balls.n.01'),\n",
       " Synset('pass.n.02'),\n",
       " Synset('pass.n.03'),\n",
       " Synset('pass.n.04'),\n",
       " Synset('pass.n.05'),\n",
       " Synset('pass.n.06'),\n",
       " Synset('pass.n.07'),\n",
       " Synset('pass.n.08'),\n",
       " Synset('pass.n.09'),\n",
       " Synset('pass.n.10'),\n",
       " Synset('bye.n.01'),\n",
       " Synset('pass.n.12'),\n",
       " Synset('pass.n.13'),\n",
       " Synset('crack.n.09'),\n",
       " Synset('pass.n.15'),\n",
       " Synset('passing.n.07'),\n",
       " Synset('pas.n.01'),\n",
       " Synset('pass.v.01'),\n",
       " Synset('travel_by.v.01'),\n",
       " Synset('legislate.v.01'),\n",
       " Synset('elapse.v.01'),\n",
       " Synset('pass.v.05'),\n",
       " Synset('run.v.03'),\n",
       " Synset('pass.v.07'),\n",
       " Synset('happen.v.01'),\n",
       " Synset('pass.v.09'),\n",
       " Synset('spend.v.01'),\n",
       " Synset('guide.v.05'),\n",
       " Synset('communicate.v.01'),\n",
       " Synset('evanesce.v.01'),\n",
       " Synset('pass.v.14'),\n",
       " Synset('exceed.v.02'),\n",
       " Synset('pass.v.16'),\n",
       " Synset('pass.v.17'),\n",
       " Synset('pass.v.18'),\n",
       " Synset('sink.v.03'),\n",
       " Synset('pass.v.20'),\n",
       " Synset('fall.v.21'),\n",
       " Synset('pass.v.22'),\n",
       " Synset('authorize.v.01'),\n",
       " Synset('die.v.01'),\n",
       " Synset('excrete.v.01'),\n",
       " Synset('passing.a.02')]"
      ]
     },
     "execution_count": 48,
     "metadata": {},
     "output_type": "execute_result"
    }
   ],
   "source": [
    "word = Word(\"pass\")\n",
    "word.synsets"
   ]
  },
  {
   "cell_type": "code",
   "execution_count": 49,
   "metadata": {},
   "outputs": [
    {
     "data": {
      "text/plain": [
       "['(baseball) an advance to first base by a batter who receives four balls',\n",
       " '(military) a written leave of absence',\n",
       " '(American football) a play that involves one player throwing the ball to a teammate',\n",
       " 'the location in a range of mountains of a geological formation that is lower than the surrounding peaks',\n",
       " 'any authorization to pass or go somewhere',\n",
       " 'a document indicating permission to do something without restrictions',\n",
       " 'a flight or run by an aircraft over a target',\n",
       " 'a bad or difficult situation or state of affairs',\n",
       " 'a difficult juncture',\n",
       " 'one complete cycle of operations (as by a computer)',\n",
       " 'you advance to the next round in a tournament without playing an opponent',\n",
       " 'a permit to enter or leave a military installation',\n",
       " 'a complimentary ticket',\n",
       " 'a usually brief attempt',\n",
       " '(sports) the act of throwing the ball to another member of your team',\n",
       " 'success in satisfying a test or requirement',\n",
       " '(ballet) a step in dancing (especially in classical ballet)',\n",
       " 'go across or through',\n",
       " 'move past',\n",
       " 'make laws, bills, etc. or bring into effect by legislation',\n",
       " 'pass by',\n",
       " 'place into the hands or custody of',\n",
       " 'stretch out over a distance, space, time, or scope; run or extend between two points or beyond a certain point',\n",
       " 'travel past',\n",
       " 'come to pass',\n",
       " 'go unchallenged; be approved',\n",
       " 'pass time in a specific way',\n",
       " 'pass over, across, or through',\n",
       " 'transmit information',\n",
       " 'disappear gradually',\n",
       " 'go successfully through a test or a selection process',\n",
       " 'be superior or better than some standard',\n",
       " 'accept or judge as acceptable',\n",
       " 'allow to go without comment or censure',\n",
       " 'transfer to another; of rights or property',\n",
       " 'pass into a specified state or condition',\n",
       " 'throw (a ball) to another player',\n",
       " 'be inherited by',\n",
       " 'cause to pass',\n",
       " 'grant authorization or clearance for',\n",
       " 'pass from physical life and lose all bodily attributes and functions necessary to sustain life',\n",
       " 'eliminate from the body',\n",
       " 'of advancing the ball by throwing it']"
      ]
     },
     "execution_count": 49,
     "metadata": {},
     "output_type": "execute_result"
    }
   ],
   "source": [
    "word.definitions"
   ]
  },
  {
   "cell_type": "markdown",
   "metadata": {},
   "source": [
    "## Sentiment Analysis\n",
    "\n",
    "The sentiment property returns a named tuple of the form Sentiment(polarity, subjectivity). \n",
    "\n",
    "Polarity is a float value within the range [-1.0 to 1.0] where \n",
    "\n",
    "    0 indicates neutral, \n",
    "    +1 indicates a very positive sentiment and \n",
    "    -1 represents a very negative sentiment.\n",
    "\n",
    "Subjectivity is a float value within the range [0.0 to 1.0] where \n",
    "\n",
    "    0.0 is very objective and \n",
    "    1.0 is very subjective. \n",
    "\n"
   ]
  },
  {
   "cell_type": "markdown",
   "metadata": {},
   "source": [
    "**Polarity score  [- 1, 1 ]** \n",
    "\n",
    "1.   closer to -1 -- negative sentiment\n",
    "2.   closer to +1 - positive sentiment\n",
    "\n",
    "\n",
    "\n",
    "**Subjectivity Score  [0,1 ]** \n",
    " \n",
    "\n",
    "1.   close to 1 mean more of personal opinion\n",
    "2.   closer to 0 mean more of factual information"
   ]
  },
  {
   "cell_type": "code",
   "execution_count": 50,
   "metadata": {},
   "outputs": [
    {
     "data": {
      "text/plain": [
       "Sentiment(polarity=0.0, subjectivity=0.0)"
      ]
     },
     "execution_count": 50,
     "metadata": {},
     "output_type": "execute_result"
    }
   ],
   "source": [
    "TextBlob(\"so the two together did the job\").sentiment"
   ]
  },
  {
   "cell_type": "code",
   "execution_count": 51,
   "metadata": {},
   "outputs": [
    {
     "data": {
      "text/plain": [
       "Sentiment(polarity=-1.0, subjectivity=1.0)"
      ]
     },
     "execution_count": 51,
     "metadata": {},
     "output_type": "execute_result"
    }
   ],
   "source": [
    "TextBlob(\"the movie was worst\").sentiment"
   ]
  },
  {
   "cell_type": "code",
   "execution_count": 52,
   "metadata": {},
   "outputs": [
    {
     "data": {
      "text/plain": [
       "Sentiment(polarity=0.5, subjectivity=1.0)"
      ]
     },
     "execution_count": 52,
     "metadata": {},
     "output_type": "execute_result"
    }
   ],
   "source": [
    "TextBlob(\"the movie was not worst\").sentiment"
   ]
  },
  {
   "cell_type": "code",
   "execution_count": 53,
   "metadata": {},
   "outputs": [
    {
     "data": {
      "text/plain": [
       "Sentiment(polarity=0.8, subjectivity=1.0)"
      ]
     },
     "execution_count": 53,
     "metadata": {},
     "output_type": "execute_result"
    }
   ],
   "source": [
    "TextBlob(\"I am happy\").sentiment"
   ]
  },
  {
   "cell_type": "code",
   "execution_count": 54,
   "metadata": {},
   "outputs": [
    {
     "data": {
      "text/plain": [
       "Sentiment(polarity=1.0, subjectivity=1.0)"
      ]
     },
     "execution_count": 54,
     "metadata": {},
     "output_type": "execute_result"
    }
   ],
   "source": [
    "TextBlob(\"I am very happy\").sentiment"
   ]
  },
  {
   "cell_type": "code",
   "execution_count": 56,
   "metadata": {},
   "outputs": [
    {
     "name": "stdout",
     "output_type": "stream",
     "text": [
      "Sentiment 1:  Sentiment(polarity=0.0, subjectivity=0.0)\n",
      "Sentiment 2:  Sentiment(polarity=0.0, subjectivity=0.0)\n"
     ]
    }
   ],
   "source": [
    "testimonial1 = TextBlob(\"so the two together did the job\")\n",
    "testimonial4 = TextBlob(\"Mumbai is a city in the UK\")\n",
    "\n",
    "print('Sentiment 1: ', testimonial1.sentiment)\n",
    "print('Sentiment 2: ', testimonial4.sentiment)"
   ]
  },
  {
   "cell_type": "code",
   "execution_count": 57,
   "metadata": {},
   "outputs": [
    {
     "name": "stdout",
     "output_type": "stream",
     "text": [
      "Polarity:  0.0\n"
     ]
    }
   ],
   "source": [
    "print('Polarity: ', testimonial1.sentiment.polarity)"
   ]
  },
  {
   "cell_type": "code",
   "execution_count": 58,
   "metadata": {},
   "outputs": [
    {
     "name": "stdout",
     "output_type": "stream",
     "text": [
      "Subjectivity:  0.0\n"
     ]
    }
   ],
   "source": [
    "print('Subjectivity: ', testimonial1.sentiment.subjectivity)"
   ]
  },
  {
   "cell_type": "markdown",
   "metadata": {},
   "source": [
    "# from textblob.classifiers import NaiveBayesClassifier"
   ]
  },
  {
   "cell_type": "code",
   "execution_count": 59,
   "metadata": {},
   "outputs": [],
   "source": [
    "train = [\n",
    "     ('I love this sandwich.', 'pos'),  \n",
    "     ('this is an amazing place!', 'pos'),\n",
    "     ('I feel very good about these beers.', 'pos'),\n",
    "     ('this is my best work.', 'pos'),\n",
    "     (\"what an awesome view\", 'pos'),\n",
    "     ('I do not like this restaurant', 'neg'),\n",
    "     ('I am tired of this stuff.', 'neg'),\n",
    "     (\"I can't deal with this\", 'neg'),\n",
    "     ('he is my sworn enemy!', 'neg'),\n",
    "     ('my boss is horrible.', 'neg')\n",
    " ]"
   ]
  },
  {
   "cell_type": "code",
   "execution_count": 61,
   "metadata": {},
   "outputs": [],
   "source": [
    "test = [\n",
    "     ('the beer was good.', 'pos'),\n",
    "     ('I do not enjoy my job', 'neg'),\n",
    "     (\"I ain't feeling dandy today.\", 'neg'),\n",
    "     (\"I feel amazing!\", 'pos'),\n",
    "     ('Gary is a friend of mine.', 'pos'),\n",
    "     (\"I can't believe I'm doing this.\", 'neg')\n",
    " ]"
   ]
  },
  {
   "cell_type": "code",
   "execution_count": 62,
   "metadata": {},
   "outputs": [],
   "source": [
    "cl = NaiveBayesClassifier(train) # Trained my classifier on Train data"
   ]
  },
  {
   "cell_type": "code",
   "execution_count": 63,
   "metadata": {},
   "outputs": [],
   "source": [
    "# Loading Data from Files\n",
    "# You can also load data from common file formats including CSV, JSON, and TSV.\n",
    "\n",
    "# CSV files should be formatted like so:\n",
    "\n",
    "# I love this sandwich.,pos\n",
    "# This is an amazing place!,pos\n",
    "# I do not like this restaurant,neg"
   ]
  },
  {
   "cell_type": "code",
   "execution_count": 64,
   "metadata": {},
   "outputs": [
    {
     "data": {
      "text/plain": [
       "'pos'"
      ]
     },
     "execution_count": 64,
     "metadata": {},
     "output_type": "execute_result"
    }
   ],
   "source": [
    "# Classifying Text\n",
    "# Call the classify(text) method to use the classifier.\n",
    "\n",
    "cl.classify(\"This is best library!\")"
   ]
  },
  {
   "cell_type": "code",
   "execution_count": 69,
   "metadata": {},
   "outputs": [
    {
     "data": {
      "text/plain": [
       "0.631147540983605"
      ]
     },
     "execution_count": 69,
     "metadata": {},
     "output_type": "execute_result"
    }
   ],
   "source": [
    "# You can get the label probability distribution with the prob_classify(text) method.\n",
    "prob_dist = cl.prob_classify(\"This one's a doozy.\")\n",
    "\n",
    "prob_dist.prob('pos')"
   ]
  },
  {
   "cell_type": "code",
   "execution_count": 70,
   "metadata": {},
   "outputs": [
    {
     "data": {
      "text/plain": [
       "0.63"
      ]
     },
     "execution_count": 70,
     "metadata": {},
     "output_type": "execute_result"
    }
   ],
   "source": [
    "round(prob_dist.prob(\"pos\"), 2)"
   ]
  },
  {
   "cell_type": "code",
   "execution_count": 71,
   "metadata": {},
   "outputs": [
    {
     "data": {
      "text/plain": [
       "0.37"
      ]
     },
     "execution_count": 71,
     "metadata": {},
     "output_type": "execute_result"
    }
   ],
   "source": [
    "round(prob_dist.prob(\"neg\"), 2)"
   ]
  },
  {
   "cell_type": "code",
   "execution_count": 72,
   "metadata": {},
   "outputs": [
    {
     "data": {
      "text/plain": [
       "0.8333333333333334"
      ]
     },
     "execution_count": 72,
     "metadata": {},
     "output_type": "execute_result"
    }
   ],
   "source": [
    "cl.accuracy(test)"
   ]
  },
  {
   "cell_type": "markdown",
   "metadata": {},
   "source": [
    "# Updating Classifiers with New Data"
   ]
  },
  {
   "cell_type": "code",
   "execution_count": 73,
   "metadata": {},
   "outputs": [],
   "source": [
    "new_data = [('She is my best friend.', 'pos'),\n",
    "             (\"I'm happy to have a new friend.\", 'pos'),\n",
    "             (\"Stay thirsty, my friend.\", 'pos'),\n",
    "             (\"He ain't from around here.\", 'neg')]"
   ]
  },
  {
   "cell_type": "code",
   "execution_count": 74,
   "metadata": {},
   "outputs": [
    {
     "data": {
      "text/plain": [
       "True"
      ]
     },
     "execution_count": 74,
     "metadata": {},
     "output_type": "execute_result"
    }
   ],
   "source": [
    "cl.update(new_data)"
   ]
  },
  {
   "cell_type": "code",
   "execution_count": 75,
   "metadata": {},
   "outputs": [
    {
     "data": {
      "text/plain": [
       "1.0"
      ]
     },
     "execution_count": 75,
     "metadata": {},
     "output_type": "execute_result"
    }
   ],
   "source": [
    "cl.accuracy(test)"
   ]
  },
  {
   "cell_type": "code",
   "execution_count": 76,
   "metadata": {},
   "outputs": [
    {
     "data": {
      "text/plain": [
       "'pos'"
      ]
     },
     "execution_count": 76,
     "metadata": {},
     "output_type": "execute_result"
    }
   ],
   "source": [
    "cl.classify(\"He is a bad boy\")"
   ]
  },
  {
   "cell_type": "code",
   "execution_count": 77,
   "metadata": {},
   "outputs": [],
   "source": [
    "prob_dist = cl.prob_classify(\"He is a bad boy\")"
   ]
  },
  {
   "cell_type": "code",
   "execution_count": 78,
   "metadata": {},
   "outputs": [
    {
     "data": {
      "text/plain": [
       "0.7451205155145105"
      ]
     },
     "execution_count": 78,
     "metadata": {},
     "output_type": "execute_result"
    }
   ],
   "source": [
    "prob_dist.prob('pos')"
   ]
  },
  {
   "cell_type": "code",
   "execution_count": 79,
   "metadata": {},
   "outputs": [
    {
     "data": {
      "text/plain": [
       "0.2548794844854889"
      ]
     },
     "execution_count": 79,
     "metadata": {},
     "output_type": "execute_result"
    }
   ],
   "source": [
    "prob_dist.prob('neg')"
   ]
  },
  {
   "cell_type": "code",
   "execution_count": null,
   "metadata": {},
   "outputs": [],
   "source": []
  }
 ],
 "metadata": {
  "kernelspec": {
   "display_name": "Python 3",
   "language": "python",
   "name": "python3"
  },
  "language_info": {
   "codemirror_mode": {
    "name": "ipython",
    "version": 3
   },
   "file_extension": ".py",
   "mimetype": "text/x-python",
   "name": "python",
   "nbconvert_exporter": "python",
   "pygments_lexer": "ipython3",
   "version": "3.8.5"
  }
 },
 "nbformat": 4,
 "nbformat_minor": 4
}
