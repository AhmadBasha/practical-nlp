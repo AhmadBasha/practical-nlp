{
 "cells": [
  {
   "cell_type": "markdown",
   "metadata": {},
   "source": [
    "## Generate the N-grams "
   ]
  },
  {
   "cell_type": "code",
   "execution_count": 1,
   "metadata": {},
   "outputs": [],
   "source": [
    "import nltk\n",
    "from nltk.util import ngrams\n",
    "from nltk.tokenize import word_tokenize"
   ]
  },
  {
   "cell_type": "code",
   "execution_count": 2,
   "metadata": {},
   "outputs": [],
   "source": [
    "from nltk.corpus import stopwords\n",
    "import string"
   ]
  },
  {
   "cell_type": "code",
   "execution_count": 3,
   "metadata": {},
   "outputs": [],
   "source": [
    "sw = stopwords.words('english') + list(string.punctuation)\n",
    "\n",
    "text = 'Data science is a wonderful program, Data science is a land of opportunities,data science is about machine learning '"
   ]
  },
  {
   "cell_type": "code",
   "execution_count": 4,
   "metadata": {},
   "outputs": [
    {
     "data": {
      "text/plain": [
       "'data science wonderful program data science land opportunities data science machine learning'"
      ]
     },
     "execution_count": 4,
     "metadata": {},
     "output_type": "execute_result"
    }
   ],
   "source": [
    "li = []\n",
    "for i in nltk.word_tokenize(text.lower()):\n",
    "    if i not in sw:\n",
    "        li.append(i)\n",
    "\" \".join(li)"
   ]
  },
  {
   "cell_type": "code",
   "execution_count": 5,
   "metadata": {},
   "outputs": [
    {
     "data": {
      "text/plain": [
       "[('data', 'science'),\n",
       " ('science', 'wonderful'),\n",
       " ('wonderful', 'program'),\n",
       " ('program', 'data'),\n",
       " ('data', 'science'),\n",
       " ('science', 'land'),\n",
       " ('land', 'opportunities'),\n",
       " ('opportunities', 'data'),\n",
       " ('data', 'science'),\n",
       " ('science', 'machine'),\n",
       " ('machine', 'learning')]"
      ]
     },
     "execution_count": 5,
     "metadata": {},
     "output_type": "execute_result"
    }
   ],
   "source": [
    "grams =2\n",
    "n_grams = ngrams(li, grams)\n",
    "n_grams = list(n_grams)\n",
    "n_grams"
   ]
  },
  {
   "cell_type": "code",
   "execution_count": 6,
   "metadata": {},
   "outputs": [
    {
     "data": {
      "text/plain": [
       "Counter({('data', 'science'): 3,\n",
       "         ('science', 'wonderful'): 1,\n",
       "         ('wonderful', 'program'): 1,\n",
       "         ('program', 'data'): 1,\n",
       "         ('science', 'land'): 1,\n",
       "         ('land', 'opportunities'): 1,\n",
       "         ('opportunities', 'data'): 1,\n",
       "         ('science', 'machine'): 1,\n",
       "         ('machine', 'learning'): 1})"
      ]
     },
     "execution_count": 6,
     "metadata": {},
     "output_type": "execute_result"
    }
   ],
   "source": [
    "from collections import Counter\n",
    "Counter((n_grams))"
   ]
  },
  {
   "cell_type": "code",
   "execution_count": 7,
   "metadata": {},
   "outputs": [
    {
     "data": {
      "text/plain": [
       "Counter({('The', 'cute'): 1,\n",
       "         ('cute', 'little'): 1,\n",
       "         ('little', 'girl'): 1,\n",
       "         ('girl', 'is'): 1,\n",
       "         ('is', 'playing'): 1,\n",
       "         ('playing', 'with'): 1,\n",
       "         ('with', 'the'): 1,\n",
       "         ('the', 'kitten.'): 1})"
      ]
     },
     "execution_count": 7,
     "metadata": {},
     "output_type": "execute_result"
    }
   ],
   "source": [
    "Counter(list(ngrams('The cute little girl is playing with the kitten.'.split(), 2)))"
   ]
  },
  {
   "cell_type": "code",
   "execution_count": 11,
   "metadata": {},
   "outputs": [
    {
     "data": {
      "text/plain": [
       "FreqDist({('data', 'science'): 3, ('science', 'wonderful'): 1, ('wonderful', 'program'): 1, ('program', 'data'): 1, ('science', 'land'): 1, ('land', 'opportunities'): 1, ('opportunities', 'data'): 1, ('science', 'machine'): 1, ('machine', 'learning'): 1})"
      ]
     },
     "execution_count": 11,
     "metadata": {},
     "output_type": "execute_result"
    }
   ],
   "source": [
    "nouns_freq = nltk.FreqDist(list(ngrams(li,2)))\n",
    "nouns_freq"
   ]
  },
  {
   "cell_type": "code",
   "execution_count": 10,
   "metadata": {},
   "outputs": [],
   "source": [
    "nouns_freq = nltk.FreqDist(list(ngrams(li,2)))"
   ]
  },
  {
   "cell_type": "code",
   "execution_count": 13,
   "metadata": {},
   "outputs": [
    {
     "data": {
      "text/plain": [
       "[(('data', 'science'), 3)]"
      ]
     },
     "execution_count": 13,
     "metadata": {},
     "output_type": "execute_result"
    }
   ],
   "source": [
    "nouns_freq.most_common(1)"
   ]
  },
  {
   "cell_type": "code",
   "execution_count": 14,
   "metadata": {},
   "outputs": [
    {
     "data": {
      "text/plain": [
       "[(('data',), 3),\n",
       " (('science',), 3),\n",
       " (('wonderful',), 1),\n",
       " (('program',), 1),\n",
       " (('land',), 1)]"
      ]
     },
     "execution_count": 14,
     "metadata": {},
     "output_type": "execute_result"
    }
   ],
   "source": [
    "nouns_freq = nltk.FreqDist(list(ngrams(li,1)))\n",
    "nouns_freq.most_common(5)"
   ]
  },
  {
   "cell_type": "code",
   "execution_count": null,
   "metadata": {},
   "outputs": [],
   "source": []
  }
 ],
 "metadata": {
  "kernelspec": {
   "display_name": "Python 3",
   "language": "python",
   "name": "python3"
  },
  "language_info": {
   "codemirror_mode": {
    "name": "ipython",
    "version": 3
   },
   "file_extension": ".py",
   "mimetype": "text/x-python",
   "name": "python",
   "nbconvert_exporter": "python",
   "pygments_lexer": "ipython3",
   "version": "3.8.5"
  }
 },
 "nbformat": 4,
 "nbformat_minor": 4
}
